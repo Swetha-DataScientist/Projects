{
 "cells": [
  {
   "cell_type": "raw",
   "id": "2733c9d4",
   "metadata": {
    "_cell_guid": "b1076dfc-b9ad-4769-8c92-a6c4dae69d19",
    "_uuid": "8f2839f25d086af736a60e9eeb907d3b93b6e0e5",
    "papermill": {
     "duration": 0.009357,
     "end_time": "2023-11-12T09:43:50.492780",
     "exception": false,
     "start_time": "2023-11-12T09:43:50.483423",
     "status": "completed"
    },
    "tags": []
   },
   "source": [
    "\n",
    "\n",
    "import numpy as np # linear algebra\n",
    "import pandas as pd # data processing, CSV file I/O (e.g. pd.read_csv)\n",
    "\n",
    "\n",
    "import os\n",
    "for dirname, _, filenames in os.walk('/kaggle/input'):\n",
    "    for filename in filenames:\n",
    "        print(os.path.join(dirname, filename))\n",
    "\n"
   ]
  },
  {
   "cell_type": "markdown",
   "id": "91e5d96c",
   "metadata": {
    "papermill": {
     "duration": 0.008523,
     "end_time": "2023-11-12T09:43:50.510219",
     "exception": false,
     "start_time": "2023-11-12T09:43:50.501696",
     "status": "completed"
    },
    "tags": []
   },
   "source": [
    "# Load Libraries"
   ]
  },
  {
   "cell_type": "code",
   "execution_count": 1,
   "id": "cb4e1459",
   "metadata": {
    "execution": {
     "iopub.execute_input": "2023-11-12T09:43:50.529621Z",
     "iopub.status.busy": "2023-11-12T09:43:50.529185Z",
     "iopub.status.idle": "2023-11-12T09:43:51.506691Z",
     "shell.execute_reply": "2023-11-12T09:43:51.505304Z"
    },
    "papermill": {
     "duration": 0.99073,
     "end_time": "2023-11-12T09:43:51.509749",
     "exception": false,
     "start_time": "2023-11-12T09:43:50.519019",
     "status": "completed"
    },
    "tags": []
   },
   "outputs": [],
   "source": [
    "import pandas as pd\n",
    "import numpy as np\n",
    "import matplotlib.pyplot as plt"
   ]
  },
  {
   "cell_type": "markdown",
   "id": "b2473195",
   "metadata": {
    "papermill": {
     "duration": 0.008877,
     "end_time": "2023-11-12T09:43:51.527737",
     "exception": false,
     "start_time": "2023-11-12T09:43:51.518860",
     "status": "completed"
    },
    "tags": []
   },
   "source": [
    "# Load data"
   ]
  },
  {
   "cell_type": "code",
   "execution_count": 2,
   "id": "71effb00",
   "metadata": {
    "execution": {
     "iopub.execute_input": "2023-11-12T09:43:51.549049Z",
     "iopub.status.busy": "2023-11-12T09:43:51.548191Z",
     "iopub.status.idle": "2023-11-12T09:43:51.579079Z",
     "shell.execute_reply": "2023-11-12T09:43:51.577411Z"
    },
    "papermill": {
     "duration": 0.045495,
     "end_time": "2023-11-12T09:43:51.582883",
     "exception": false,
     "start_time": "2023-11-12T09:43:51.537388",
     "status": "completed"
    },
    "tags": []
   },
   "outputs": [],
   "source": [
    "df = pd.read_csv('/kaggle/input/salary-dataset-simple-linear-regression/Salary_dataset.csv')"
   ]
  },
  {
   "cell_type": "code",
   "execution_count": 3,
   "id": "7382a5c6",
   "metadata": {
    "execution": {
     "iopub.execute_input": "2023-11-12T09:43:51.606970Z",
     "iopub.status.busy": "2023-11-12T09:43:51.606547Z",
     "iopub.status.idle": "2023-11-12T09:43:51.632234Z",
     "shell.execute_reply": "2023-11-12T09:43:51.631380Z"
    },
    "papermill": {
     "duration": 0.041601,
     "end_time": "2023-11-12T09:43:51.634913",
     "exception": false,
     "start_time": "2023-11-12T09:43:51.593312",
     "status": "completed"
    },
    "tags": []
   },
   "outputs": [
    {
     "data": {
      "text/html": [
       "<div>\n",
       "<style scoped>\n",
       "    .dataframe tbody tr th:only-of-type {\n",
       "        vertical-align: middle;\n",
       "    }\n",
       "\n",
       "    .dataframe tbody tr th {\n",
       "        vertical-align: top;\n",
       "    }\n",
       "\n",
       "    .dataframe thead th {\n",
       "        text-align: right;\n",
       "    }\n",
       "</style>\n",
       "<table border=\"1\" class=\"dataframe\">\n",
       "  <thead>\n",
       "    <tr style=\"text-align: right;\">\n",
       "      <th></th>\n",
       "      <th>Unnamed: 0</th>\n",
       "      <th>YearsExperience</th>\n",
       "      <th>Salary</th>\n",
       "    </tr>\n",
       "  </thead>\n",
       "  <tbody>\n",
       "    <tr>\n",
       "      <th>0</th>\n",
       "      <td>0</td>\n",
       "      <td>1.2</td>\n",
       "      <td>39344.0</td>\n",
       "    </tr>\n",
       "    <tr>\n",
       "      <th>1</th>\n",
       "      <td>1</td>\n",
       "      <td>1.4</td>\n",
       "      <td>46206.0</td>\n",
       "    </tr>\n",
       "    <tr>\n",
       "      <th>2</th>\n",
       "      <td>2</td>\n",
       "      <td>1.6</td>\n",
       "      <td>37732.0</td>\n",
       "    </tr>\n",
       "    <tr>\n",
       "      <th>3</th>\n",
       "      <td>3</td>\n",
       "      <td>2.1</td>\n",
       "      <td>43526.0</td>\n",
       "    </tr>\n",
       "    <tr>\n",
       "      <th>4</th>\n",
       "      <td>4</td>\n",
       "      <td>2.3</td>\n",
       "      <td>39892.0</td>\n",
       "    </tr>\n",
       "  </tbody>\n",
       "</table>\n",
       "</div>"
      ],
      "text/plain": [
       "   Unnamed: 0  YearsExperience   Salary\n",
       "0           0              1.2  39344.0\n",
       "1           1              1.4  46206.0\n",
       "2           2              1.6  37732.0\n",
       "3           3              2.1  43526.0\n",
       "4           4              2.3  39892.0"
      ]
     },
     "execution_count": 3,
     "metadata": {},
     "output_type": "execute_result"
    }
   ],
   "source": [
    "df.head(5)"
   ]
  },
  {
   "cell_type": "markdown",
   "id": "9bfce104",
   "metadata": {
    "papermill": {
     "duration": 0.00866,
     "end_time": "2023-11-12T09:43:51.652804",
     "exception": false,
     "start_time": "2023-11-12T09:43:51.644144",
     "status": "completed"
    },
    "tags": []
   },
   "source": [
    "# Check data"
   ]
  },
  {
   "cell_type": "markdown",
   "id": "a7a7d29b",
   "metadata": {
    "papermill": {
     "duration": 0.00862,
     "end_time": "2023-11-12T09:43:51.670446",
     "exception": false,
     "start_time": "2023-11-12T09:43:51.661826",
     "status": "completed"
    },
    "tags": []
   },
   "source": [
    "### Statistics"
   ]
  },
  {
   "cell_type": "code",
   "execution_count": 4,
   "id": "4a1ed697",
   "metadata": {
    "execution": {
     "iopub.execute_input": "2023-11-12T09:43:51.692513Z",
     "iopub.status.busy": "2023-11-12T09:43:51.690987Z",
     "iopub.status.idle": "2023-11-12T09:43:51.727089Z",
     "shell.execute_reply": "2023-11-12T09:43:51.725109Z"
    },
    "papermill": {
     "duration": 0.050646,
     "end_time": "2023-11-12T09:43:51.730685",
     "exception": false,
     "start_time": "2023-11-12T09:43:51.680039",
     "status": "completed"
    },
    "tags": []
   },
   "outputs": [
    {
     "data": {
      "text/html": [
       "<div>\n",
       "<style scoped>\n",
       "    .dataframe tbody tr th:only-of-type {\n",
       "        vertical-align: middle;\n",
       "    }\n",
       "\n",
       "    .dataframe tbody tr th {\n",
       "        vertical-align: top;\n",
       "    }\n",
       "\n",
       "    .dataframe thead th {\n",
       "        text-align: right;\n",
       "    }\n",
       "</style>\n",
       "<table border=\"1\" class=\"dataframe\">\n",
       "  <thead>\n",
       "    <tr style=\"text-align: right;\">\n",
       "      <th></th>\n",
       "      <th>Unnamed: 0</th>\n",
       "      <th>YearsExperience</th>\n",
       "      <th>Salary</th>\n",
       "    </tr>\n",
       "  </thead>\n",
       "  <tbody>\n",
       "    <tr>\n",
       "      <th>count</th>\n",
       "      <td>30.000000</td>\n",
       "      <td>30.000000</td>\n",
       "      <td>30.000000</td>\n",
       "    </tr>\n",
       "    <tr>\n",
       "      <th>mean</th>\n",
       "      <td>14.500000</td>\n",
       "      <td>5.413333</td>\n",
       "      <td>76004.000000</td>\n",
       "    </tr>\n",
       "    <tr>\n",
       "      <th>std</th>\n",
       "      <td>8.803408</td>\n",
       "      <td>2.837888</td>\n",
       "      <td>27414.429785</td>\n",
       "    </tr>\n",
       "    <tr>\n",
       "      <th>min</th>\n",
       "      <td>0.000000</td>\n",
       "      <td>1.200000</td>\n",
       "      <td>37732.000000</td>\n",
       "    </tr>\n",
       "    <tr>\n",
       "      <th>25%</th>\n",
       "      <td>7.250000</td>\n",
       "      <td>3.300000</td>\n",
       "      <td>56721.750000</td>\n",
       "    </tr>\n",
       "    <tr>\n",
       "      <th>50%</th>\n",
       "      <td>14.500000</td>\n",
       "      <td>4.800000</td>\n",
       "      <td>65238.000000</td>\n",
       "    </tr>\n",
       "    <tr>\n",
       "      <th>75%</th>\n",
       "      <td>21.750000</td>\n",
       "      <td>7.800000</td>\n",
       "      <td>100545.750000</td>\n",
       "    </tr>\n",
       "    <tr>\n",
       "      <th>max</th>\n",
       "      <td>29.000000</td>\n",
       "      <td>10.600000</td>\n",
       "      <td>122392.000000</td>\n",
       "    </tr>\n",
       "  </tbody>\n",
       "</table>\n",
       "</div>"
      ],
      "text/plain": [
       "       Unnamed: 0  YearsExperience         Salary\n",
       "count   30.000000        30.000000      30.000000\n",
       "mean    14.500000         5.413333   76004.000000\n",
       "std      8.803408         2.837888   27414.429785\n",
       "min      0.000000         1.200000   37732.000000\n",
       "25%      7.250000         3.300000   56721.750000\n",
       "50%     14.500000         4.800000   65238.000000\n",
       "75%     21.750000         7.800000  100545.750000\n",
       "max     29.000000        10.600000  122392.000000"
      ]
     },
     "execution_count": 4,
     "metadata": {},
     "output_type": "execute_result"
    }
   ],
   "source": [
    "df.describe()"
   ]
  },
  {
   "cell_type": "markdown",
   "id": "815f1511",
   "metadata": {
    "papermill": {
     "duration": 0.011406,
     "end_time": "2023-11-12T09:43:51.754480",
     "exception": false,
     "start_time": "2023-11-12T09:43:51.743074",
     "status": "completed"
    },
    "tags": []
   },
   "source": [
    "## Clean dataset"
   ]
  },
  {
   "cell_type": "code",
   "execution_count": 5,
   "id": "f9725f03",
   "metadata": {
    "execution": {
     "iopub.execute_input": "2023-11-12T09:43:51.782479Z",
     "iopub.status.busy": "2023-11-12T09:43:51.781943Z",
     "iopub.status.idle": "2023-11-12T09:43:51.797310Z",
     "shell.execute_reply": "2023-11-12T09:43:51.795821Z"
    },
    "papermill": {
     "duration": 0.033418,
     "end_time": "2023-11-12T09:43:51.800794",
     "exception": false,
     "start_time": "2023-11-12T09:43:51.767376",
     "status": "completed"
    },
    "tags": []
   },
   "outputs": [],
   "source": [
    "df.drop('Unnamed: 0',axis=1,inplace=True)"
   ]
  },
  {
   "cell_type": "code",
   "execution_count": 6,
   "id": "38433be1",
   "metadata": {
    "execution": {
     "iopub.execute_input": "2023-11-12T09:43:51.822522Z",
     "iopub.status.busy": "2023-11-12T09:43:51.821089Z",
     "iopub.status.idle": "2023-11-12T09:43:51.829119Z",
     "shell.execute_reply": "2023-11-12T09:43:51.827253Z"
    },
    "papermill": {
     "duration": 0.021602,
     "end_time": "2023-11-12T09:43:51.831813",
     "exception": false,
     "start_time": "2023-11-12T09:43:51.810211",
     "status": "completed"
    },
    "tags": []
   },
   "outputs": [
    {
     "name": "stdout",
     "output_type": "stream",
     "text": [
      "False\n"
     ]
    }
   ],
   "source": [
    "check_nan = df.isnull().values.any()\n",
    "print(check_nan)"
   ]
  },
  {
   "cell_type": "code",
   "execution_count": 7,
   "id": "1bdf70eb",
   "metadata": {
    "execution": {
     "iopub.execute_input": "2023-11-12T09:43:51.853860Z",
     "iopub.status.busy": "2023-11-12T09:43:51.853330Z",
     "iopub.status.idle": "2023-11-12T09:43:51.864029Z",
     "shell.execute_reply": "2023-11-12T09:43:51.862618Z"
    },
    "papermill": {
     "duration": 0.025401,
     "end_time": "2023-11-12T09:43:51.867151",
     "exception": false,
     "start_time": "2023-11-12T09:43:51.841750",
     "status": "completed"
    },
    "tags": []
   },
   "outputs": [
    {
     "data": {
      "text/plain": [
       "YearsExperience    0\n",
       "Salary             0\n",
       "dtype: int64"
      ]
     },
     "execution_count": 7,
     "metadata": {},
     "output_type": "execute_result"
    }
   ],
   "source": [
    "df.isnull().sum()"
   ]
  },
  {
   "cell_type": "code",
   "execution_count": 8,
   "id": "7944d682",
   "metadata": {
    "execution": {
     "iopub.execute_input": "2023-11-12T09:43:51.889568Z",
     "iopub.status.busy": "2023-11-12T09:43:51.889139Z",
     "iopub.status.idle": "2023-11-12T09:43:51.902447Z",
     "shell.execute_reply": "2023-11-12T09:43:51.901277Z"
    },
    "papermill": {
     "duration": 0.027445,
     "end_time": "2023-11-12T09:43:51.905288",
     "exception": false,
     "start_time": "2023-11-12T09:43:51.877843",
     "status": "completed"
    },
    "tags": []
   },
   "outputs": [
    {
     "data": {
      "text/plain": [
       "0"
      ]
     },
     "execution_count": 8,
     "metadata": {},
     "output_type": "execute_result"
    }
   ],
   "source": [
    "df.duplicated().sum()"
   ]
  },
  {
   "cell_type": "markdown",
   "id": "26f82b18",
   "metadata": {
    "papermill": {
     "duration": 0.00962,
     "end_time": "2023-11-12T09:43:51.926503",
     "exception": false,
     "start_time": "2023-11-12T09:43:51.916883",
     "status": "completed"
    },
    "tags": []
   },
   "source": [
    "# Analysis"
   ]
  },
  {
   "cell_type": "code",
   "execution_count": 9,
   "id": "344c81bb",
   "metadata": {
    "execution": {
     "iopub.execute_input": "2023-11-12T09:43:51.947920Z",
     "iopub.status.busy": "2023-11-12T09:43:51.947455Z",
     "iopub.status.idle": "2023-11-12T09:43:52.296012Z",
     "shell.execute_reply": "2023-11-12T09:43:52.294835Z"
    },
    "papermill": {
     "duration": 0.362868,
     "end_time": "2023-11-12T09:43:52.299084",
     "exception": false,
     "start_time": "2023-11-12T09:43:51.936216",
     "status": "completed"
    },
    "tags": []
   },
   "outputs": [
    {
     "data": {
      "image/png": "[encoded data removed]",
      "text/plain": [
       "<Figure size 640x480 with 1 Axes>"
      ]
     },
     "metadata": {},
     "output_type": "display_data"
    }
   ],
   "source": [
    "plt.scatter(x=df['YearsExperience'],y=df['Salary']) \n",
    "plt.title('Scatterplot')\n",
    "plt.xlabel('Years Experience')\n",
    "plt.ylabel('Salary')\n",
    "plt.grid(True)\n",
    "plt.show()"
   ]
  },
  {
   "cell_type": "markdown",
   "id": "8c7fc82b",
   "metadata": {
    "papermill": {
     "duration": 0.010274,
     "end_time": "2023-11-12T09:43:52.319621",
     "exception": false,
     "start_time": "2023-11-12T09:43:52.309347",
     "status": "completed"
    },
    "tags": []
   },
   "source": [
    "Linear Regresion looks like a perfect fit."
   ]
  },
  {
   "cell_type": "markdown",
   "id": "69f6889c",
   "metadata": {
    "papermill": {
     "duration": 0.011046,
     "end_time": "2023-11-12T09:43:52.341439",
     "exception": false,
     "start_time": "2023-11-12T09:43:52.330393",
     "status": "completed"
    },
    "tags": []
   },
   "source": [
    "### Split data"
   ]
  },
  {
   "cell_type": "code",
   "execution_count": 10,
   "id": "b1741d06",
   "metadata": {
    "execution": {
     "iopub.execute_input": "2023-11-12T09:43:52.365194Z",
     "iopub.status.busy": "2023-11-12T09:43:52.363977Z",
     "iopub.status.idle": "2023-11-12T09:43:53.948112Z",
     "shell.execute_reply": "2023-11-12T09:43:53.947155Z"
    },
    "papermill": {
     "duration": 1.598754,
     "end_time": "2023-11-12T09:43:53.950836",
     "exception": false,
     "start_time": "2023-11-12T09:43:52.352082",
     "status": "completed"
    },
    "tags": []
   },
   "outputs": [],
   "source": [
    "from sklearn.model_selection import train_test_split\n",
    "\n",
    "X=df['YearsExperience']\n",
    "y=df['Salary']\n",
    "\n",
    "# 70/30 split for training/testing dataset\n",
    "X_train, X_test, y_train, y_test = train_test_split(X, y, test_size=0.3, random_state=42)\n"
   ]
  },
  {
   "cell_type": "code",
   "execution_count": 11,
   "id": "a440d508",
   "metadata": {
    "execution": {
     "iopub.execute_input": "2023-11-12T09:43:53.974888Z",
     "iopub.status.busy": "2023-11-12T09:43:53.973625Z",
     "iopub.status.idle": "2023-11-12T09:43:53.979883Z",
     "shell.execute_reply": "2023-11-12T09:43:53.978593Z"
    },
    "papermill": {
     "duration": 0.020951,
     "end_time": "2023-11-12T09:43:53.982452",
     "exception": false,
     "start_time": "2023-11-12T09:43:53.961501",
     "status": "completed"
    },
    "tags": []
   },
   "outputs": [
    {
     "name": "stdout",
     "output_type": "stream",
     "text": [
      "(21,)\n",
      "(21,)\n"
     ]
    }
   ],
   "source": [
    "print(X_train.shape)\n",
    "print(y_train.shape)"
   ]
  },
  {
   "cell_type": "code",
   "execution_count": 12,
   "id": "1988a7ca",
   "metadata": {
    "execution": {
     "iopub.execute_input": "2023-11-12T09:43:54.005377Z",
     "iopub.status.busy": "2023-11-12T09:43:54.004711Z",
     "iopub.status.idle": "2023-11-12T09:43:54.093619Z",
     "shell.execute_reply": "2023-11-12T09:43:54.092319Z"
    },
    "papermill": {
     "duration": 0.103196,
     "end_time": "2023-11-12T09:43:54.096091",
     "exception": false,
     "start_time": "2023-11-12T09:43:53.992895",
     "status": "completed"
    },
    "tags": []
   },
   "outputs": [
    {
     "name": "stdout",
     "output_type": "stream",
     "text": [
      "(21, 1)\n",
      "(21, 1)\n",
      "(9, 1)\n"
     ]
    }
   ],
   "source": [
    "# Reshape to have shape (21, 1)\n",
    "X_train = np.array(X_train).reshape(-1, 1)\n",
    "y_train = np.array(y_train).reshape(-1, 1)\n",
    "X_test = np.array(X_test).reshape(-1, 1)\n",
    "\n",
    "\n",
    "print(X_train.shape)  \n",
    "print(y_train.shape)\n",
    "print(X_test.shape)"
   ]
  },
  {
   "cell_type": "markdown",
   "id": "548f19a1",
   "metadata": {
    "papermill": {
     "duration": 0.010114,
     "end_time": "2023-11-12T09:43:54.116777",
     "exception": false,
     "start_time": "2023-11-12T09:43:54.106663",
     "status": "completed"
    },
    "tags": []
   },
   "source": [
    "### Build Model"
   ]
  },
  {
   "cell_type": "code",
   "execution_count": 13,
   "id": "8fbbf0ff",
   "metadata": {
    "execution": {
     "iopub.execute_input": "2023-11-12T09:43:54.140026Z",
     "iopub.status.busy": "2023-11-12T09:43:54.139576Z",
     "iopub.status.idle": "2023-11-12T09:43:54.291606Z",
     "shell.execute_reply": "2023-11-12T09:43:54.290428Z"
    },
    "papermill": {
     "duration": 0.166542,
     "end_time": "2023-11-12T09:43:54.294320",
     "exception": false,
     "start_time": "2023-11-12T09:43:54.127778",
     "status": "completed"
    },
    "tags": []
   },
   "outputs": [
    {
     "data": {
      "text/html": [
       "<style>#sk-container-id-1 {color: black;background-color: white;}#sk-container-id-1 pre{padding: 0;}#sk-container-id-1 div.sk-toggleable {background-color: white;}#sk-container-id-1 label.sk-toggleable__label {cursor: pointer;display: block;width: 100%;margin-bottom: 0;padding: 0.3em;box-sizing: border-box;text-align: center;}#sk-container-id-1 label.sk-toggleable__label-arrow:before {content: \"▸\";float: left;margin-right: 0.25em;color: #696969;}#sk-container-id-1 label.sk-toggleable__label-arrow:hover:before {color: black;}#sk-container-id-1 div.sk-estimator:hover label.sk-toggleable__label-arrow:before {color: black;}#sk-container-id-1 div.sk-toggleable__content {max-height: 0;max-width: 0;overflow: hidden;text-align: left;background-color: #f0f8ff;}#sk-container-id-1 div.sk-toggleable__content pre {margin: 0.2em;color: black;border-radius: 0.25em;background-color: #f0f8ff;}#sk-container-id-1 input.sk-toggleable__control:checked~div.sk-toggleable__content {max-height: 200px;max-width: 100%;overflow: auto;}#sk-container-id-1 input.sk-toggleable__control:checked~label.sk-toggleable__label-arrow:before {content: \"▾\";}#sk-container-id-1 div.sk-estimator input.sk-toggleable__control:checked~label.sk-toggleable__label {background-color: #d4ebff;}#sk-container-id-1 div.sk-label input.sk-toggleable__control:checked~label.sk-toggleable__label {background-color: #d4ebff;}#sk-container-id-1 input.sk-hidden--visually {border: 0;clip: rect(1px 1px 1px 1px);clip: rect(1px, 1px, 1px, 1px);height: 1px;margin: -1px;overflow: hidden;padding: 0;position: absolute;width: 1px;}#sk-container-id-1 div.sk-estimator {font-family: monospace;background-color: #f0f8ff;border: 1px dotted black;border-radius: 0.25em;box-sizing: border-box;margin-bottom: 0.5em;}#sk-container-id-1 div.sk-estimator:hover {background-color: #d4ebff;}#sk-container-id-1 div.sk-parallel-item::after {content: \"\";width: 100%;border-bottom: 1px solid gray;flex-grow: 1;}#sk-container-id-1 div.sk-label:hover label.sk-toggleable__label {background-color: #d4ebff;}#sk-container-id-1 div.sk-serial::before {content: \"\";position: absolute;border-left: 1px solid gray;box-sizing: border-box;top: 0;bottom: 0;left: 50%;z-index: 0;}#sk-container-id-1 div.sk-serial {display: flex;flex-direction: column;align-items: center;background-color: white;padding-right: 0.2em;padding-left: 0.2em;position: relative;}#sk-container-id-1 div.sk-item {position: relative;z-index: 1;}#sk-container-id-1 div.sk-parallel {display: flex;align-items: stretch;justify-content: center;background-color: white;position: relative;}#sk-container-id-1 div.sk-item::before, #sk-container-id-1 div.sk-parallel-item::before {content: \"\";position: absolute;border-left: 1px solid gray;box-sizing: border-box;top: 0;bottom: 0;left: 50%;z-index: -1;}#sk-container-id-1 div.sk-parallel-item {display: flex;flex-direction: column;z-index: 1;position: relative;background-color: white;}#sk-container-id-1 div.sk-parallel-item:first-child::after {align-self: flex-end;width: 50%;}#sk-container-id-1 div.sk-parallel-item:last-child::after {align-self: flex-start;width: 50%;}#sk-container-id-1 div.sk-parallel-item:only-child::after {width: 0;}#sk-container-id-1 div.sk-dashed-wrapped {border: 1px dashed gray;margin: 0 0.4em 0.5em 0.4em;box-sizing: border-box;padding-bottom: 0.4em;background-color: white;}#sk-container-id-1 div.sk-label label {font-family: monospace;font-weight: bold;display: inline-block;line-height: 1.2em;}#sk-container-id-1 div.sk-label-container {text-align: center;}#sk-container-id-1 div.sk-container {/* jupyter's `normalize.less` sets `[hidden] { display: none; }` but bootstrap.min.css set `[hidden] { display: none !important; }` so we also need the `!important` here to be able to override the default hidden behavior on the sphinx rendered scikit-learn.org. See: https://github.com/scikit-learn/scikit-learn/issues/21755 */display: inline-block !important;position: relative;}#sk-container-id-1 div.sk-text-repr-fallback {display: none;}</style><div id=\"sk-container-id-1\" class=\"sk-top-container\"><div class=\"sk-text-repr-fallback\"><pre>LinearRegression()</pre><b>In a Jupyter environment, please rerun this cell to show the HTML representation or trust the notebook. <br />On GitHub, the HTML representation is unable to render, please try loading this page with nbviewer.org.</b></div><div class=\"sk-container\" hidden><div class=\"sk-item\"><div class=\"sk-estimator sk-toggleable\"><input class=\"sk-toggleable__control sk-hidden--visually\" id=\"sk-estimator-id-1\" type=\"checkbox\" checked><label for=\"sk-estimator-id-1\" class=\"sk-toggleable__label sk-toggleable__label-arrow\">LinearRegression</label><div class=\"sk-toggleable__content\"><pre>LinearRegression()</pre></div></div></div></div></div>"
      ],
      "text/plain": [
       "LinearRegression()"
      ]
     },
     "execution_count": 13,
     "metadata": {},
     "output_type": "execute_result"
    }
   ],
   "source": [
    "from sklearn.linear_model import LinearRegression\n",
    "\n",
    "# Initialize the model\n",
    "model = LinearRegression()\n",
    "\n",
    "# Train the model\n",
    "model.fit(X_train, y_train)"
   ]
  },
  {
   "cell_type": "markdown",
   "id": "c59b3b3e",
   "metadata": {
    "papermill": {
     "duration": 0.01036,
     "end_time": "2023-11-12T09:43:54.315400",
     "exception": false,
     "start_time": "2023-11-12T09:43:54.305040",
     "status": "completed"
    },
    "tags": []
   },
   "source": [
    "### Prediction"
   ]
  },
  {
   "cell_type": "code",
   "execution_count": 14,
   "id": "fd1eff9d",
   "metadata": {
    "execution": {
     "iopub.execute_input": "2023-11-12T09:43:54.338621Z",
     "iopub.status.busy": "2023-11-12T09:43:54.338192Z",
     "iopub.status.idle": "2023-11-12T09:43:54.344432Z",
     "shell.execute_reply": "2023-11-12T09:43:54.343277Z"
    },
    "papermill": {
     "duration": 0.021645,
     "end_time": "2023-11-12T09:43:54.347697",
     "exception": false,
     "start_time": "2023-11-12T09:43:54.326052",
     "status": "completed"
    },
    "tags": []
   },
   "outputs": [
    {
     "name": "stdout",
     "output_type": "stream",
     "text": [
      "[[115574.62288352]\n",
      " [ 71680.93878159]\n",
      " [102499.90847018]\n",
      " [ 75416.57147111]\n",
      " [ 55804.4998511 ]\n",
      " [ 60474.04071301]\n",
      " [122111.98009019]\n",
      " [107169.44933209]\n",
      " [ 63275.76523015]]\n"
     ]
    }
   ],
   "source": [
    "y_prediction = model.predict(X_test)\n",
    "print(y_prediction)"
   ]
  },
  {
   "cell_type": "markdown",
   "id": "dbe67091",
   "metadata": {
    "papermill": {
     "duration": 0.010766,
     "end_time": "2023-11-12T09:43:54.369227",
     "exception": false,
     "start_time": "2023-11-12T09:43:54.358461",
     "status": "completed"
    },
    "tags": []
   },
   "source": [
    "### Visualize"
   ]
  },
  {
   "cell_type": "code",
   "execution_count": 15,
   "id": "27c457bf",
   "metadata": {
    "execution": {
     "iopub.execute_input": "2023-11-12T09:43:54.393458Z",
     "iopub.status.busy": "2023-11-12T09:43:54.393061Z",
     "iopub.status.idle": "2023-11-12T09:43:54.762452Z",
     "shell.execute_reply": "2023-11-12T09:43:54.761031Z"
    },
    "papermill": {
     "duration": 0.385025,
     "end_time": "2023-11-12T09:43:54.765034",
     "exception": false,
     "start_time": "2023-11-12T09:43:54.380009",
     "status": "completed"
    },
    "tags": []
   },
   "outputs": [
    {
     "data": {
      "image/png": "[encoded data removed]",
      "text/plain": [
       "<Figure size 640x480 with 1 Axes>"
      ]
     },
     "metadata": {},
     "output_type": "display_data"
    }
   ],
   "source": [
    "# scatter plot\n",
    "plt.scatter(x=df['YearsExperience'], y=df['Salary'])\n",
    "\n",
    "# plotting the regression line (predictions)\n",
    "plt.plot(X_test, y_prediction, color='red', linewidth=2, label='Regression line')\n",
    "\n",
    "# labeling the plot\n",
    "plt.xlabel('Yeear Experience')\n",
    "plt.ylabel('Salary')\n",
    "plt.title('Linear Regression Prediction')\n",
    "plt.legend()\n",
    "plt.grid(True)"
   ]
  },
  {
   "cell_type": "code",
   "execution_count": 16,
   "id": "24bc654a",
   "metadata": {
    "execution": {
     "iopub.execute_input": "2023-11-12T09:43:54.790238Z",
     "iopub.status.busy": "2023-11-12T09:43:54.789751Z",
     "iopub.status.idle": "2023-11-12T09:43:54.799375Z",
     "shell.execute_reply": "2023-11-12T09:43:54.797995Z"
    },
    "papermill": {
     "duration": 0.02545,
     "end_time": "2023-11-12T09:43:54.801993",
     "exception": false,
     "start_time": "2023-11-12T09:43:54.776543",
     "status": "completed"
    },
    "tags": []
   },
   "outputs": [
    {
     "name": "stdout",
     "output_type": "stream",
     "text": [
      "Mean Absolute Error (MAE): 5161.328710400178\n",
      "Mean Squared Error (MSE): 37784662.46621308\n",
      "Root Mean Squared Error (RMSE): 6146.9230079945755\n",
      "R^2 (Coefficient of Determination): 0.9414466227178215\n"
     ]
    }
   ],
   "source": [
    "from sklearn.metrics import mean_absolute_error, mean_squared_error, r2_score\n",
    "\n",
    "# Compute statistics\n",
    "mae = mean_absolute_error(y_test, y_prediction)\n",
    "mse = mean_squared_error(y_test, y_prediction)\n",
    "rmse = np.sqrt(mse)\n",
    "r2 = r2_score(y_test, y_prediction)\n",
    "\n",
    "# Print the statistics\n",
    "print(f\"Mean Absolute Error (MAE): {mae}\")\n",
    "print(f\"Mean Squared Error (MSE): {mse}\")\n",
    "print(f\"Root Mean Squared Error (RMSE): {rmse}\")\n",
    "print(f\"R^2 (Coefficient of Determination): {r2}\")"
   ]
  },
  {
   "cell_type": "markdown",
   "id": "6993cdb6",
   "metadata": {
    "papermill": {
     "duration": 0.011562,
     "end_time": "2023-11-12T09:43:54.825195",
     "exception": false,
     "start_time": "2023-11-12T09:43:54.813633",
     "status": "completed"
    },
    "tags": []
   },
   "source": [
    "# Result"
   ]
  },
  {
   "cell_type": "markdown",
   "id": "f15b7c20",
   "metadata": {
    "papermill": {
     "duration": 0.011439,
     "end_time": "2023-11-12T09:43:54.848145",
     "exception": false,
     "start_time": "2023-11-12T09:43:54.836706",
     "status": "completed"
    },
    "tags": []
   },
   "source": [
    "The linear regression model captures the underlying trend in the dataset, as evidenced by an R^2 value of 0.9414. This indicates that approximately 94.14% of the variation in the target variable is explained by the model. The RMSE of 6146.92 suggests that the typical prediction error is $6,146.92."
   ]
  }
 ],
 "metadata": {
  "kernelspec": {
   "display_name": "Python 3",
   "language": "python",
   "name": "python3"
  },
  "language_info": {
   "codemirror_mode": {
    "name": "ipython",
    "version": 3
   },
   "file_extension": ".py",
   "mimetype": "text/x-python",
   "name": "python",
   "nbconvert_exporter": "python",
   "pygments_lexer": "ipython3",
   "version": "3.10.12"
  },
  "papermill": {
   "default_parameters": {},
   "duration": 9.631673,
   "end_time": "2023-11-12T09:43:55.481260",
   "environment_variables": {},
   "exception": null,
   "input_path": "__notebook__.ipynb",
   "output_path": "__notebook__.ipynb",
   "parameters": {},
   "start_time": "2023-11-12T09:43:45.849587",
   "version": "2.4.0"
  }
 },
 "nbformat": 4,
 "nbformat_minor": 5
}
