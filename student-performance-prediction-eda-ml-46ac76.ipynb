{
 "cells": [
  {
   "cell_type": "markdown",
   "id": "a70ea691",
   "metadata": {
    "papermill": {
     "duration": 0.011153,
     "end_time": "2023-11-12T09:21:19.130805",
     "exception": false,
     "start_time": "2023-11-12T09:21:19.119652",
     "status": "completed"
    },
    "tags": []
   },
   "source": [
    "## Loading Libraries & Data"
   ]
  },
  {
   "cell_type": "code",
   "execution_count": 1,
   "id": "d5d27686",
   "metadata": {
    "execution": {
     "iopub.execute_input": "2023-11-12T09:21:19.155789Z",
     "iopub.status.busy": "2023-11-12T09:21:19.155323Z",
     "iopub.status.idle": "2023-11-12T09:21:20.774024Z",
     "shell.execute_reply": "2023-11-12T09:21:20.772568Z"
    },
    "papermill": {
     "duration": 1.634042,
     "end_time": "2023-11-12T09:21:20.776668",
     "exception": false,
     "start_time": "2023-11-12T09:21:19.142626",
     "status": "completed"
    },
    "tags": []
   },
   "outputs": [],
   "source": [
    "# import libraries\n",
    "import pandas as pd\n",
    "import numpy as np\n",
    "import matplotlib.pyplot as plt\n",
    "import seaborn as sns\n",
    "\n",
    "# set style of visualization\n",
    "sns.set_style(\"whitegrid\")\n",
    "sns.set_palette(\"RdBu\")"
   ]
  },
  {
   "cell_type": "code",
   "execution_count": 2,
   "id": "6ac52d15",
   "metadata": {
    "execution": {
     "iopub.execute_input": "2023-11-12T09:21:20.800900Z",
     "iopub.status.busy": "2023-11-12T09:21:20.800242Z",
     "iopub.status.idle": "2023-11-12T09:21:20.842165Z",
     "shell.execute_reply": "2023-11-12T09:21:20.841400Z"
    },
    "papermill": {
     "duration": 0.056686,
     "end_time": "2023-11-12T09:21:20.844405",
     "exception": false,
     "start_time": "2023-11-12T09:21:20.787719",
     "status": "completed"
    },
    "tags": []
   },
   "outputs": [],
   "source": [
    "# read data set\n",
    "\n",
    "data = pd.read_csv(\"/kaggle/input/student-performance-multiple-linear-regression/Student_Performance.csv\")"
   ]
  },
  {
   "cell_type": "code",
   "execution_count": 3,
   "id": "36c66cd4",
   "metadata": {
    "execution": {
     "iopub.execute_input": "2023-11-12T09:21:20.867966Z",
     "iopub.status.busy": "2023-11-12T09:21:20.867602Z",
     "iopub.status.idle": "2023-11-12T09:21:20.892985Z",
     "shell.execute_reply": "2023-11-12T09:21:20.892301Z"
    },
    "papermill": {
     "duration": 0.039209,
     "end_time": "2023-11-12T09:21:20.894749",
     "exception": false,
     "start_time": "2023-11-12T09:21:20.855540",
     "status": "completed"
    },
    "tags": []
   },
   "outputs": [
    {
     "data": {
      "text/html": [
       "<div>\n",
       "<style scoped>\n",
       "    .dataframe tbody tr th:only-of-type {\n",
       "        vertical-align: middle;\n",
       "    }\n",
       "\n",
       "    .dataframe tbody tr th {\n",
       "        vertical-align: top;\n",
       "    }\n",
       "\n",
       "    .dataframe thead th {\n",
       "        text-align: right;\n",
       "    }\n",
       "</style>\n",
       "<table border=\"1\" class=\"dataframe\">\n",
       "  <thead>\n",
       "    <tr style=\"text-align: right;\">\n",
       "      <th></th>\n",
       "      <th>Hours Studied</th>\n",
       "      <th>Previous Scores</th>\n",
       "      <th>Extracurricular Activities</th>\n",
       "      <th>Sleep Hours</th>\n",
       "      <th>Sample Question Papers Practiced</th>\n",
       "      <th>Performance Index</th>\n",
       "    </tr>\n",
       "  </thead>\n",
       "  <tbody>\n",
       "    <tr>\n",
       "      <th>0</th>\n",
       "      <td>7</td>\n",
       "      <td>99</td>\n",
       "      <td>Yes</td>\n",
       "      <td>9</td>\n",
       "      <td>1</td>\n",
       "      <td>91.0</td>\n",
       "    </tr>\n",
       "    <tr>\n",
       "      <th>1</th>\n",
       "      <td>4</td>\n",
       "      <td>82</td>\n",
       "      <td>No</td>\n",
       "      <td>4</td>\n",
       "      <td>2</td>\n",
       "      <td>65.0</td>\n",
       "    </tr>\n",
       "    <tr>\n",
       "      <th>2</th>\n",
       "      <td>8</td>\n",
       "      <td>51</td>\n",
       "      <td>Yes</td>\n",
       "      <td>7</td>\n",
       "      <td>2</td>\n",
       "      <td>45.0</td>\n",
       "    </tr>\n",
       "    <tr>\n",
       "      <th>3</th>\n",
       "      <td>5</td>\n",
       "      <td>52</td>\n",
       "      <td>Yes</td>\n",
       "      <td>5</td>\n",
       "      <td>2</td>\n",
       "      <td>36.0</td>\n",
       "    </tr>\n",
       "    <tr>\n",
       "      <th>4</th>\n",
       "      <td>7</td>\n",
       "      <td>75</td>\n",
       "      <td>No</td>\n",
       "      <td>8</td>\n",
       "      <td>5</td>\n",
       "      <td>66.0</td>\n",
       "    </tr>\n",
       "  </tbody>\n",
       "</table>\n",
       "</div>"
      ],
      "text/plain": [
       "   Hours Studied  Previous Scores Extracurricular Activities  Sleep Hours  \\\n",
       "0              7               99                        Yes            9   \n",
       "1              4               82                         No            4   \n",
       "2              8               51                        Yes            7   \n",
       "3              5               52                        Yes            5   \n",
       "4              7               75                         No            8   \n",
       "\n",
       "   Sample Question Papers Practiced  Performance Index  \n",
       "0                                 1               91.0  \n",
       "1                                 2               65.0  \n",
       "2                                 2               45.0  \n",
       "3                                 2               36.0  \n",
       "4                                 5               66.0  "
      ]
     },
     "execution_count": 3,
     "metadata": {},
     "output_type": "execute_result"
    }
   ],
   "source": [
    "# see top 5 rows\n",
    "\n",
    "data.head()"
   ]
  },
  {
   "cell_type": "code",
   "execution_count": 4,
   "id": "e6043357",
   "metadata": {
    "execution": {
     "iopub.execute_input": "2023-11-12T09:21:20.921218Z",
     "iopub.status.busy": "2023-11-12T09:21:20.919858Z",
     "iopub.status.idle": "2023-11-12T09:21:20.951317Z",
     "shell.execute_reply": "2023-11-12T09:21:20.950414Z"
    },
    "papermill": {
     "duration": 0.047881,
     "end_time": "2023-11-12T09:21:20.954097",
     "exception": false,
     "start_time": "2023-11-12T09:21:20.906216",
     "status": "completed"
    },
    "tags": []
   },
   "outputs": [
    {
     "name": "stdout",
     "output_type": "stream",
     "text": [
      "<class 'pandas.core.frame.DataFrame'>\n",
      "RangeIndex: 10000 entries, 0 to 9999\n",
      "Data columns (total 6 columns):\n",
      " #   Column                            Non-Null Count  Dtype  \n",
      "---  ------                            --------------  -----  \n",
      " 0   Hours Studied                     10000 non-null  int64  \n",
      " 1   Previous Scores                   10000 non-null  int64  \n",
      " 2   Extracurricular Activities        10000 non-null  object \n",
      " 3   Sleep Hours                       10000 non-null  int64  \n",
      " 4   Sample Question Papers Practiced  10000 non-null  int64  \n",
      " 5   Performance Index                 10000 non-null  float64\n",
      "dtypes: float64(1), int64(4), object(1)\n",
      "memory usage: 468.9+ KB\n"
     ]
    }
   ],
   "source": [
    "# see column data type and some info\n",
    "\n",
    "data.info()"
   ]
  },
  {
   "cell_type": "code",
   "execution_count": 5,
   "id": "70d3c76a",
   "metadata": {
    "execution": {
     "iopub.execute_input": "2023-11-12T09:21:20.982040Z",
     "iopub.status.busy": "2023-11-12T09:21:20.981569Z",
     "iopub.status.idle": "2023-11-12T09:21:20.992736Z",
     "shell.execute_reply": "2023-11-12T09:21:20.991839Z"
    },
    "papermill": {
     "duration": 0.028666,
     "end_time": "2023-11-12T09:21:20.995757",
     "exception": false,
     "start_time": "2023-11-12T09:21:20.967091",
     "status": "completed"
    },
    "tags": []
   },
   "outputs": [
    {
     "data": {
      "text/plain": [
       "Hours Studied                       0.0\n",
       "Previous Scores                     0.0\n",
       "Extracurricular Activities          0.0\n",
       "Sleep Hours                         0.0\n",
       "Sample Question Papers Practiced    0.0\n",
       "Performance Index                   0.0\n",
       "dtype: float64"
      ]
     },
     "execution_count": 5,
     "metadata": {},
     "output_type": "execute_result"
    }
   ],
   "source": [
    "# see precentege of missing value in each column\n",
    "\n",
    "data.isna().sum() / data.shape[0]"
   ]
  },
  {
   "cell_type": "code",
   "execution_count": 6,
   "id": "d55d148e",
   "metadata": {
    "execution": {
     "iopub.execute_input": "2023-11-12T09:21:21.028068Z",
     "iopub.status.busy": "2023-11-12T09:21:21.026144Z",
     "iopub.status.idle": "2023-11-12T09:21:21.034147Z",
     "shell.execute_reply": "2023-11-12T09:21:21.033222Z"
    },
    "papermill": {
     "duration": 0.025278,
     "end_time": "2023-11-12T09:21:21.035996",
     "exception": false,
     "start_time": "2023-11-12T09:21:21.010718",
     "status": "completed"
    },
    "tags": []
   },
   "outputs": [
    {
     "data": {
      "text/plain": [
       "(10000, 6)"
      ]
     },
     "execution_count": 6,
     "metadata": {},
     "output_type": "execute_result"
    }
   ],
   "source": [
    "# see dimensions\n",
    "\n",
    "data.shape"
   ]
  },
  {
   "cell_type": "code",
   "execution_count": 7,
   "id": "72e3f77e",
   "metadata": {
    "execution": {
     "iopub.execute_input": "2023-11-12T09:21:21.064727Z",
     "iopub.status.busy": "2023-11-12T09:21:21.063600Z",
     "iopub.status.idle": "2023-11-12T09:21:21.077816Z",
     "shell.execute_reply": "2023-11-12T09:21:21.076848Z"
    },
    "papermill": {
     "duration": 0.031833,
     "end_time": "2023-11-12T09:21:21.079883",
     "exception": false,
     "start_time": "2023-11-12T09:21:21.048050",
     "status": "completed"
    },
    "tags": []
   },
   "outputs": [
    {
     "data": {
      "text/plain": [
       "True"
      ]
     },
     "execution_count": 7,
     "metadata": {},
     "output_type": "execute_result"
    }
   ],
   "source": [
    "# check if duplicated in data\n",
    "\n",
    "data.duplicated().any()"
   ]
  },
  {
   "cell_type": "markdown",
   "id": "696e856f",
   "metadata": {
    "papermill": {
     "duration": 0.011348,
     "end_time": "2023-11-12T09:21:21.103445",
     "exception": false,
     "start_time": "2023-11-12T09:21:21.092097",
     "status": "completed"
    },
    "tags": []
   },
   "source": [
    "⚠️ At first glance, you think that there are \"duplicate\" values, but in fact there are no duplicate values "
   ]
  },
  {
   "cell_type": "code",
   "execution_count": 8,
   "id": "9f3524ca",
   "metadata": {
    "execution": {
     "iopub.execute_input": "2023-11-12T09:21:21.129218Z",
     "iopub.status.busy": "2023-11-12T09:21:21.127823Z",
     "iopub.status.idle": "2023-11-12T09:21:21.153596Z",
     "shell.execute_reply": "2023-11-12T09:21:21.152780Z"
    },
    "papermill": {
     "duration": 0.04101,
     "end_time": "2023-11-12T09:21:21.155908",
     "exception": false,
     "start_time": "2023-11-12T09:21:21.114898",
     "status": "completed"
    },
    "tags": []
   },
   "outputs": [
    {
     "data": {
      "text/html": [
       "<div>\n",
       "<style scoped>\n",
       "    .dataframe tbody tr th:only-of-type {\n",
       "        vertical-align: middle;\n",
       "    }\n",
       "\n",
       "    .dataframe tbody tr th {\n",
       "        vertical-align: top;\n",
       "    }\n",
       "\n",
       "    .dataframe thead th {\n",
       "        text-align: right;\n",
       "    }\n",
       "</style>\n",
       "<table border=\"1\" class=\"dataframe\">\n",
       "  <thead>\n",
       "    <tr style=\"text-align: right;\">\n",
       "      <th></th>\n",
       "      <th>Hours Studied</th>\n",
       "      <th>Previous Scores</th>\n",
       "      <th>Sleep Hours</th>\n",
       "      <th>Sample Question Papers Practiced</th>\n",
       "      <th>Performance Index</th>\n",
       "    </tr>\n",
       "  </thead>\n",
       "  <tbody>\n",
       "    <tr>\n",
       "      <th>count</th>\n",
       "      <td>10000.000000</td>\n",
       "      <td>10000.000000</td>\n",
       "      <td>10000.000000</td>\n",
       "      <td>10000.000000</td>\n",
       "      <td>10000.000000</td>\n",
       "    </tr>\n",
       "    <tr>\n",
       "      <th>mean</th>\n",
       "      <td>4.992900</td>\n",
       "      <td>69.445700</td>\n",
       "      <td>6.530600</td>\n",
       "      <td>4.583300</td>\n",
       "      <td>55.224800</td>\n",
       "    </tr>\n",
       "    <tr>\n",
       "      <th>std</th>\n",
       "      <td>2.589309</td>\n",
       "      <td>17.343152</td>\n",
       "      <td>1.695863</td>\n",
       "      <td>2.867348</td>\n",
       "      <td>19.212558</td>\n",
       "    </tr>\n",
       "    <tr>\n",
       "      <th>min</th>\n",
       "      <td>1.000000</td>\n",
       "      <td>40.000000</td>\n",
       "      <td>4.000000</td>\n",
       "      <td>0.000000</td>\n",
       "      <td>10.000000</td>\n",
       "    </tr>\n",
       "    <tr>\n",
       "      <th>25%</th>\n",
       "      <td>3.000000</td>\n",
       "      <td>54.000000</td>\n",
       "      <td>5.000000</td>\n",
       "      <td>2.000000</td>\n",
       "      <td>40.000000</td>\n",
       "    </tr>\n",
       "    <tr>\n",
       "      <th>50%</th>\n",
       "      <td>5.000000</td>\n",
       "      <td>69.000000</td>\n",
       "      <td>7.000000</td>\n",
       "      <td>5.000000</td>\n",
       "      <td>55.000000</td>\n",
       "    </tr>\n",
       "    <tr>\n",
       "      <th>75%</th>\n",
       "      <td>7.000000</td>\n",
       "      <td>85.000000</td>\n",
       "      <td>8.000000</td>\n",
       "      <td>7.000000</td>\n",
       "      <td>71.000000</td>\n",
       "    </tr>\n",
       "    <tr>\n",
       "      <th>max</th>\n",
       "      <td>9.000000</td>\n",
       "      <td>99.000000</td>\n",
       "      <td>9.000000</td>\n",
       "      <td>9.000000</td>\n",
       "      <td>100.000000</td>\n",
       "    </tr>\n",
       "  </tbody>\n",
       "</table>\n",
       "</div>"
      ],
      "text/plain": [
       "       Hours Studied  Previous Scores   Sleep Hours  \\\n",
       "count   10000.000000     10000.000000  10000.000000   \n",
       "mean        4.992900        69.445700      6.530600   \n",
       "std         2.589309        17.343152      1.695863   \n",
       "min         1.000000        40.000000      4.000000   \n",
       "25%         3.000000        54.000000      5.000000   \n",
       "50%         5.000000        69.000000      7.000000   \n",
       "75%         7.000000        85.000000      8.000000   \n",
       "max         9.000000        99.000000      9.000000   \n",
       "\n",
       "       Sample Question Papers Practiced  Performance Index  \n",
       "count                      10000.000000       10000.000000  \n",
       "mean                           4.583300          55.224800  \n",
       "std                            2.867348          19.212558  \n",
       "min                            0.000000          10.000000  \n",
       "25%                            2.000000          40.000000  \n",
       "50%                            5.000000          55.000000  \n",
       "75%                            7.000000          71.000000  \n",
       "max                            9.000000         100.000000  "
      ]
     },
     "execution_count": 8,
     "metadata": {},
     "output_type": "execute_result"
    }
   ],
   "source": [
    "# see quick info of numeric values\n",
    "\n",
    "data.describe()"
   ]
  },
  {
   "cell_type": "code",
   "execution_count": 9,
   "id": "62e62084",
   "metadata": {
    "execution": {
     "iopub.execute_input": "2023-11-12T09:21:21.183695Z",
     "iopub.status.busy": "2023-11-12T09:21:21.183021Z",
     "iopub.status.idle": "2023-11-12T09:21:21.198605Z",
     "shell.execute_reply": "2023-11-12T09:21:21.196669Z"
    },
    "papermill": {
     "duration": 0.032224,
     "end_time": "2023-11-12T09:21:21.201145",
     "exception": false,
     "start_time": "2023-11-12T09:21:21.168921",
     "status": "completed"
    },
    "tags": []
   },
   "outputs": [
    {
     "data": {
      "text/html": [
       "<div>\n",
       "<style scoped>\n",
       "    .dataframe tbody tr th:only-of-type {\n",
       "        vertical-align: middle;\n",
       "    }\n",
       "\n",
       "    .dataframe tbody tr th {\n",
       "        vertical-align: top;\n",
       "    }\n",
       "\n",
       "    .dataframe thead th {\n",
       "        text-align: right;\n",
       "    }\n",
       "</style>\n",
       "<table border=\"1\" class=\"dataframe\">\n",
       "  <thead>\n",
       "    <tr style=\"text-align: right;\">\n",
       "      <th></th>\n",
       "      <th>Extracurricular Activities</th>\n",
       "    </tr>\n",
       "  </thead>\n",
       "  <tbody>\n",
       "    <tr>\n",
       "      <th>count</th>\n",
       "      <td>10000</td>\n",
       "    </tr>\n",
       "    <tr>\n",
       "      <th>unique</th>\n",
       "      <td>2</td>\n",
       "    </tr>\n",
       "    <tr>\n",
       "      <th>top</th>\n",
       "      <td>No</td>\n",
       "    </tr>\n",
       "    <tr>\n",
       "      <th>freq</th>\n",
       "      <td>5052</td>\n",
       "    </tr>\n",
       "  </tbody>\n",
       "</table>\n",
       "</div>"
      ],
      "text/plain": [
       "       Extracurricular Activities\n",
       "count                       10000\n",
       "unique                          2\n",
       "top                            No\n",
       "freq                         5052"
      ]
     },
     "execution_count": 9,
     "metadata": {},
     "output_type": "execute_result"
    }
   ],
   "source": [
    "# see quick info of category values \n",
    "\n",
    "data.describe(include = object)"
   ]
  },
  {
   "cell_type": "markdown",
   "id": "4f98f15e",
   "metadata": {
    "papermill": {
     "duration": 0.012782,
     "end_time": "2023-11-12T09:21:21.318781",
     "exception": false,
     "start_time": "2023-11-12T09:21:21.305999",
     "status": "completed"
    },
    "tags": []
   },
   "source": [
    "**We Can see :**\n",
    "   - Dataset no missing values\n",
    "   - Dataset has no complete duplicates\n",
    "   - We need to modify some column data type"
   ]
  },
  {
   "cell_type": "markdown",
   "id": "e57d4df6",
   "metadata": {
    "papermill": {
     "duration": 0.013021,
     "end_time": "2023-11-12T09:21:21.344845",
     "exception": false,
     "start_time": "2023-11-12T09:21:21.331824",
     "status": "completed"
    },
    "tags": []
   },
   "source": [
    "## Univariate Analysis & Visualizations"
   ]
  },
  {
   "cell_type": "code",
   "execution_count": 10,
   "id": "b408dfc3",
   "metadata": {
    "execution": {
     "iopub.execute_input": "2023-11-12T09:21:21.373804Z",
     "iopub.status.busy": "2023-11-12T09:21:21.373492Z",
     "iopub.status.idle": "2023-11-12T09:21:21.380044Z",
     "shell.execute_reply": "2023-11-12T09:21:21.378668Z"
    },
    "papermill": {
     "duration": 0.024614,
     "end_time": "2023-11-12T09:21:21.382922",
     "exception": false,
     "start_time": "2023-11-12T09:21:21.358308",
     "status": "completed"
    },
    "tags": []
   },
   "outputs": [],
   "source": [
    "# create function to visualized categorical column using count plot\n",
    "\n",
    "def count_plot(column_name, hue = None, rotation = 0):\n",
    "    \"\"\"\n",
    "    1) input : column name, column data type must be object or categorical\n",
    "    3) output : cout plot using seaborn modules, unique values in x-axis and frequency in y-axis\n",
    "    4) i use bar_label to show frequency of each unique values above each column in graph\n",
    "    \"\"\"\n",
    "    graph = sns.countplot(x = column_name, data = data, hue = hue, order = data[column_name].value_counts().index)\n",
    "    for container in graph.containers:\n",
    "        graph.bar_label(container)\n",
    "        \n",
    "        \n",
    "    plt.xticks(rotation = rotation)\n",
    "    plt.show()"
   ]
  },
  {
   "cell_type": "code",
   "execution_count": 11,
   "id": "9f639ac7",
   "metadata": {
    "execution": {
     "iopub.execute_input": "2023-11-12T09:21:21.411385Z",
     "iopub.status.busy": "2023-11-12T09:21:21.410757Z",
     "iopub.status.idle": "2023-11-12T09:21:21.415338Z",
     "shell.execute_reply": "2023-11-12T09:21:21.414728Z"
    },
    "papermill": {
     "duration": 0.022045,
     "end_time": "2023-11-12T09:21:21.418430",
     "exception": false,
     "start_time": "2023-11-12T09:21:21.396385",
     "status": "completed"
    },
    "tags": []
   },
   "outputs": [],
   "source": [
    "# create function that visualized numeric columns using box plot\n",
    "\n",
    "def box_plot(x_axis = None, y_axis = None, hue = None, col = None):\n",
    "    \"\"\"\n",
    "    input : x_axis, y_axis and hue column, column data type must be numeric in y_axis\n",
    "    output : box plot to see distribution of column values such as min,max,mean,medien,std\n",
    "    \"\"\"\n",
    "    sns.catplot(x = x_axis, y = y_axis, data = data, hue = hue, kind = \"box\", col = col)\n",
    "    plt.xlabel(x_axis)\n",
    "    plt.ylabel(\"FRQ\")\n",
    "    plt.show()"
   ]
  },
  {
   "cell_type": "markdown",
   "id": "8ac09131",
   "metadata": {
    "papermill": {
     "duration": 0.012419,
     "end_time": "2023-11-12T09:21:21.444680",
     "exception": false,
     "start_time": "2023-11-12T09:21:21.432261",
     "status": "completed"
    },
    "tags": []
   },
   "source": [
    "### Discovering `Hours Studied` column"
   ]
  },
  {
   "cell_type": "code",
   "execution_count": 12,
   "id": "1a9e85cf",
   "metadata": {
    "execution": {
     "iopub.execute_input": "2023-11-12T09:21:21.471429Z",
     "iopub.status.busy": "2023-11-12T09:21:21.471073Z",
     "iopub.status.idle": "2023-11-12T09:21:21.477805Z",
     "shell.execute_reply": "2023-11-12T09:21:21.476537Z"
    },
    "papermill": {
     "duration": 0.023668,
     "end_time": "2023-11-12T09:21:21.480844",
     "exception": false,
     "start_time": "2023-11-12T09:21:21.457176",
     "status": "completed"
    },
    "tags": []
   },
   "outputs": [
    {
     "data": {
      "text/plain": [
       "array([7, 4, 8, 5, 3, 6, 2, 1, 9])"
      ]
     },
     "execution_count": 12,
     "metadata": {},
     "output_type": "execute_result"
    }
   ],
   "source": [
    "# see uniqie values\n",
    "\n",
    "data[\"Hours Studied\"].unique()"
   ]
  },
  {
   "cell_type": "code",
   "execution_count": 13,
   "id": "64025a61",
   "metadata": {
    "execution": {
     "iopub.execute_input": "2023-11-12T09:21:21.509194Z",
     "iopub.status.busy": "2023-11-12T09:21:21.508653Z",
     "iopub.status.idle": "2023-11-12T09:21:21.942546Z",
     "shell.execute_reply": "2023-11-12T09:21:21.941180Z"
    },
    "papermill": {
     "duration": 0.45012,
     "end_time": "2023-11-12T09:21:21.944716",
     "exception": false,
     "start_time": "2023-11-12T09:21:21.494596",
     "status": "completed"
    },
    "tags": []
   },
   "outputs": [
    {
     "data": {
      "image/png": "[encoded data removed]",
      "text/plain": [
       "<Figure size 1500x600 with 1 Axes>"
      ]
     },
     "metadata": {},
     "output_type": "display_data"
    }
   ],
   "source": [
    "# number of unique values is relatively large, count plot more suitable for it\n",
    "\n",
    "# first set figure size\n",
    "plt.figure(figsize = (15,6))\n",
    "\n",
    "# call function i create it in cell 10\n",
    "count_plot(column_name = \"Hours Studied\") "
   ]
  },
  {
   "cell_type": "markdown",
   "id": "a98a3375",
   "metadata": {
    "papermill": {
     "duration": 0.013751,
     "end_time": "2023-11-12T09:21:21.973661",
     "exception": false,
     "start_time": "2023-11-12T09:21:21.959910",
     "status": "completed"
    },
    "tags": []
   },
   "source": [
    "**We can see :**\n",
    "   - Most student studied \"1\" hour\n",
    "   - Other students studied Similar numbers of hours"
   ]
  },
  {
   "cell_type": "markdown",
   "id": "7c7a80d7",
   "metadata": {
    "papermill": {
     "duration": 0.01498,
     "end_time": "2023-11-12T09:21:22.003006",
     "exception": false,
     "start_time": "2023-11-12T09:21:21.988026",
     "status": "completed"
    },
    "tags": []
   },
   "source": [
    "### Discovering `Previous Scores` column"
   ]
  },
  {
   "cell_type": "code",
   "execution_count": 14,
   "id": "a76c55b6",
   "metadata": {
    "execution": {
     "iopub.execute_input": "2023-11-12T09:21:22.032130Z",
     "iopub.status.busy": "2023-11-12T09:21:22.031737Z",
     "iopub.status.idle": "2023-11-12T09:21:22.273876Z",
     "shell.execute_reply": "2023-11-12T09:21:22.271786Z"
    },
    "papermill": {
     "duration": 0.25877,
     "end_time": "2023-11-12T09:21:22.276039",
     "exception": false,
     "start_time": "2023-11-12T09:21:22.017269",
     "status": "completed"
    },
    "tags": []
   },
   "outputs": [
    {
     "data": {
      "image/png": "[encoded data removed]",
      "text/plain": [
       "<Figure size 500x500 with 1 Axes>"
      ]
     },
     "metadata": {},
     "output_type": "display_data"
    }
   ],
   "source": [
    "# see distribution \n",
    "\n",
    "box_plot(y_axis = \"Previous Scores\") # call function i create it in cell 11"
   ]
  },
  {
   "cell_type": "markdown",
   "id": "4d98da80",
   "metadata": {
    "papermill": {
     "duration": 0.011845,
     "end_time": "2023-11-12T09:21:22.300587",
     "exception": false,
     "start_time": "2023-11-12T09:21:22.288742",
     "status": "completed"
    },
    "tags": []
   },
   "source": [
    "**We can see :**\n",
    "   - 50 % of students scored above 65\n",
    "   - No student obtained the final grade"
   ]
  },
  {
   "cell_type": "markdown",
   "id": "31d0fb77",
   "metadata": {
    "papermill": {
     "duration": 0.011657,
     "end_time": "2023-11-12T09:21:22.324244",
     "exception": false,
     "start_time": "2023-11-12T09:21:22.312587",
     "status": "completed"
    },
    "tags": []
   },
   "source": [
    "### Discovering `Extracurricular Activities` column"
   ]
  },
  {
   "cell_type": "code",
   "execution_count": 15,
   "id": "6ebe291d",
   "metadata": {
    "execution": {
     "iopub.execute_input": "2023-11-12T09:21:22.351181Z",
     "iopub.status.busy": "2023-11-12T09:21:22.350172Z",
     "iopub.status.idle": "2023-11-12T09:21:22.359736Z",
     "shell.execute_reply": "2023-11-12T09:21:22.358172Z"
    },
    "papermill": {
     "duration": 0.025658,
     "end_time": "2023-11-12T09:21:22.361763",
     "exception": false,
     "start_time": "2023-11-12T09:21:22.336105",
     "status": "completed"
    },
    "tags": []
   },
   "outputs": [
    {
     "data": {
      "text/plain": [
       "array(['Yes', 'No'], dtype=object)"
      ]
     },
     "execution_count": 15,
     "metadata": {},
     "output_type": "execute_result"
    }
   ],
   "source": [
    "# see unique values\n",
    "\n",
    "data[\"Extracurricular Activities\"].unique()"
   ]
  },
  {
   "cell_type": "code",
   "execution_count": 16,
   "id": "70c0e4c0",
   "metadata": {
    "execution": {
     "iopub.execute_input": "2023-11-12T09:21:22.389414Z",
     "iopub.status.busy": "2023-11-12T09:21:22.388996Z",
     "iopub.status.idle": "2023-11-12T09:21:22.515506Z",
     "shell.execute_reply": "2023-11-12T09:21:22.514523Z"
    },
    "papermill": {
     "duration": 0.143461,
     "end_time": "2023-11-12T09:21:22.517555",
     "exception": false,
     "start_time": "2023-11-12T09:21:22.374094",
     "status": "completed"
    },
    "tags": []
   },
   "outputs": [
    {
     "data": {
      "image/png": "[encoded data removed]",
      "text/plain": [
       "<Figure size 640x480 with 1 Axes>"
      ]
     },
     "metadata": {},
     "output_type": "display_data"
    }
   ],
   "source": [
    "# output number of values count\n",
    "\n",
    "plt.pie(data[\"Extracurricular Activities\"].value_counts(), labels = data[\"Extracurricular Activities\"].value_counts().index, \n",
    "        shadow = True, autopct = \"%1.1f%%\")\n",
    "plt.show()"
   ]
  },
  {
   "cell_type": "markdown",
   "id": "3bc623c0",
   "metadata": {
    "papermill": {
     "duration": 0.016649,
     "end_time": "2023-11-12T09:21:22.551545",
     "exception": false,
     "start_time": "2023-11-12T09:21:22.534896",
     "status": "completed"
    },
    "tags": []
   },
   "source": [
    "**We can see :**\n",
    "   - Most student \"don't\" participate in extracurricular activities"
   ]
  },
  {
   "cell_type": "markdown",
   "id": "53a15931",
   "metadata": {
    "papermill": {
     "duration": 0.016518,
     "end_time": "2023-11-12T09:21:22.584915",
     "exception": false,
     "start_time": "2023-11-12T09:21:22.568397",
     "status": "completed"
    },
    "tags": []
   },
   "source": [
    "### Discovering `Sleep Hours` column"
   ]
  },
  {
   "cell_type": "code",
   "execution_count": 17,
   "id": "8221106d",
   "metadata": {
    "execution": {
     "iopub.execute_input": "2023-11-12T09:21:22.618706Z",
     "iopub.status.busy": "2023-11-12T09:21:22.618160Z",
     "iopub.status.idle": "2023-11-12T09:21:22.625570Z",
     "shell.execute_reply": "2023-11-12T09:21:22.624812Z"
    },
    "papermill": {
     "duration": 0.025157,
     "end_time": "2023-11-12T09:21:22.627070",
     "exception": false,
     "start_time": "2023-11-12T09:21:22.601913",
     "status": "completed"
    },
    "tags": []
   },
   "outputs": [
    {
     "data": {
      "text/plain": [
       "array([9, 4, 7, 5, 8, 6])"
      ]
     },
     "execution_count": 17,
     "metadata": {},
     "output_type": "execute_result"
    }
   ],
   "source": [
    "# see unique values\n",
    "\n",
    "data[\"Sleep Hours\"].unique()"
   ]
  },
  {
   "cell_type": "code",
   "execution_count": 18,
   "id": "7c0606e0",
   "metadata": {
    "execution": {
     "iopub.execute_input": "2023-11-12T09:21:22.655519Z",
     "iopub.status.busy": "2023-11-12T09:21:22.654723Z",
     "iopub.status.idle": "2023-11-12T09:21:22.912247Z",
     "shell.execute_reply": "2023-11-12T09:21:22.911535Z"
    },
    "papermill": {
     "duration": 0.274426,
     "end_time": "2023-11-12T09:21:22.914700",
     "exception": false,
     "start_time": "2023-11-12T09:21:22.640274",
     "status": "completed"
    },
    "tags": []
   },
   "outputs": [
    {
     "data": {
      "image/png": "[encoded data removed]",
      "text/plain": [
       "<Figure size 1500x600 with 1 Axes>"
      ]
     },
     "metadata": {},
     "output_type": "display_data"
    }
   ],
   "source": [
    "# number of unique values is relatively large, count plot more suitable for it\n",
    "\n",
    "# first set figure size\n",
    "plt.figure(figsize = (15,6))\n",
    "\n",
    "# call function i create it in cell 10\n",
    "count_plot(column_name = \"Sleep Hours\")"
   ]
  },
  {
   "cell_type": "markdown",
   "id": "c0a16cdc",
   "metadata": {
    "papermill": {
     "duration": 0.013766,
     "end_time": "2023-11-12T09:21:22.941840",
     "exception": false,
     "start_time": "2023-11-12T09:21:22.928074",
     "status": "completed"
    },
    "tags": []
   },
   "source": [
    "**We can see :**\n",
    "   - Most student Sleep 8 hours\n",
    "   - Other students sleep Similar numbers of hours\n"
   ]
  },
  {
   "cell_type": "markdown",
   "id": "4e4ec0bd",
   "metadata": {
    "papermill": {
     "duration": 0.013535,
     "end_time": "2023-11-12T09:21:22.969612",
     "exception": false,
     "start_time": "2023-11-12T09:21:22.956077",
     "status": "completed"
    },
    "tags": []
   },
   "source": [
    "### Discovering `Sample Question Papers Practiced` column"
   ]
  },
  {
   "cell_type": "code",
   "execution_count": 19,
   "id": "74515238",
   "metadata": {
    "execution": {
     "iopub.execute_input": "2023-11-12T09:21:22.999579Z",
     "iopub.status.busy": "2023-11-12T09:21:22.998718Z",
     "iopub.status.idle": "2023-11-12T09:21:23.006529Z",
     "shell.execute_reply": "2023-11-12T09:21:23.005545Z"
    },
    "papermill": {
     "duration": 0.025005,
     "end_time": "2023-11-12T09:21:23.008280",
     "exception": false,
     "start_time": "2023-11-12T09:21:22.983275",
     "status": "completed"
    },
    "tags": []
   },
   "outputs": [
    {
     "data": {
      "text/plain": [
       "array([1, 2, 5, 6, 0, 8, 3, 4, 9, 7])"
      ]
     },
     "execution_count": 19,
     "metadata": {},
     "output_type": "execute_result"
    }
   ],
   "source": [
    "# see unique values\n",
    "\n",
    "data[\"Sample Question Papers Practiced\"].unique()"
   ]
  },
  {
   "cell_type": "code",
   "execution_count": 20,
   "id": "00701136",
   "metadata": {
    "execution": {
     "iopub.execute_input": "2023-11-12T09:21:23.037342Z",
     "iopub.status.busy": "2023-11-12T09:21:23.036883Z",
     "iopub.status.idle": "2023-11-12T09:21:23.328989Z",
     "shell.execute_reply": "2023-11-12T09:21:23.327906Z"
    },
    "papermill": {
     "duration": 0.308936,
     "end_time": "2023-11-12T09:21:23.330884",
     "exception": false,
     "start_time": "2023-11-12T09:21:23.021948",
     "status": "completed"
    },
    "tags": []
   },
   "outputs": [
    {
     "data": {
      "image/png": "[encoded data removed]",
      "text/plain": [
       "<Figure size 1500x600 with 1 Axes>"
      ]
     },
     "metadata": {},
     "output_type": "display_data"
    }
   ],
   "source": [
    "# number of unique values is relatively large, count plot more suitable for it\n",
    "\n",
    "# first set figure size\n",
    "plt.figure(figsize = (15,6))\n",
    "\n",
    "# call function i create it in cell 10\n",
    "count_plot(column_name = \"Sample Question Papers Practiced\")"
   ]
  },
  {
   "cell_type": "markdown",
   "id": "352a073c",
   "metadata": {
    "papermill": {
     "duration": 0.01308,
     "end_time": "2023-11-12T09:21:23.357798",
     "exception": false,
     "start_time": "2023-11-12T09:21:23.344718",
     "status": "completed"
    },
    "tags": []
   },
   "source": [
    "**We can see :**\n",
    "   - All student have Similar The number of sample question papers the practiced.\n",
    "   - **There are students who did not practice any questions**"
   ]
  },
  {
   "cell_type": "markdown",
   "id": "e5261a9d",
   "metadata": {
    "papermill": {
     "duration": 0.012974,
     "end_time": "2023-11-12T09:21:23.383972",
     "exception": false,
     "start_time": "2023-11-12T09:21:23.370998",
     "status": "completed"
    },
    "tags": []
   },
   "source": [
    "## Bivariate Analysis & Visualizations"
   ]
  },
  {
   "cell_type": "code",
   "execution_count": 21,
   "id": "04a56628",
   "metadata": {
    "execution": {
     "iopub.execute_input": "2023-11-12T09:21:23.414163Z",
     "iopub.status.busy": "2023-11-12T09:21:23.413852Z",
     "iopub.status.idle": "2023-11-12T09:21:23.843598Z",
     "shell.execute_reply": "2023-11-12T09:21:23.842638Z"
    },
    "papermill": {
     "duration": 0.446023,
     "end_time": "2023-11-12T09:21:23.845422",
     "exception": false,
     "start_time": "2023-11-12T09:21:23.399399",
     "status": "completed"
    },
    "tags": []
   },
   "outputs": [
    {
     "data": {
      "image/png": "[encoded data removed]",
      "text/plain": [
       "<Figure size 500x500 with 1 Axes>"
      ]
     },
     "metadata": {},
     "output_type": "display_data"
    }
   ],
   "source": [
    "# What is \"Hours Studied\" and \"Performance Index\" distribution\n",
    "\n",
    "box_plot(x_axis = \"Hours Studied\", y_axis = \"Performance Index\") # call function i create it in cell 11"
   ]
  },
  {
   "cell_type": "markdown",
   "id": "c3056906",
   "metadata": {
    "papermill": {
     "duration": 0.013436,
     "end_time": "2023-11-12T09:21:23.872814",
     "exception": false,
     "start_time": "2023-11-12T09:21:23.859378",
     "status": "completed"
    },
    "tags": []
   },
   "source": [
    "- As we can see, the more hours you study, the greater the success rate"
   ]
  },
  {
   "cell_type": "code",
   "execution_count": 22,
   "id": "975c58c9",
   "metadata": {
    "execution": {
     "iopub.execute_input": "2023-11-12T09:21:23.901638Z",
     "iopub.status.busy": "2023-11-12T09:21:23.901210Z",
     "iopub.status.idle": "2023-11-12T09:21:24.182506Z",
     "shell.execute_reply": "2023-11-12T09:21:24.181528Z"
    },
    "papermill": {
     "duration": 0.298054,
     "end_time": "2023-11-12T09:21:24.184272",
     "exception": false,
     "start_time": "2023-11-12T09:21:23.886218",
     "status": "completed"
    },
    "tags": []
   },
   "outputs": [
    {
     "data": {
      "image/png": "[encoded data removed]",
      "text/plain": [
       "<Figure size 500x500 with 1 Axes>"
      ]
     },
     "metadata": {},
     "output_type": "display_data"
    }
   ],
   "source": [
    "# What is \"\tExtracurricular Activities\" and \"Performance Index\" distribution\n",
    "\n",
    "box_plot(x_axis = \"Extracurricular Activities\", y_axis = \"Performance Index\") # call function i create it in cell 11"
   ]
  },
  {
   "cell_type": "markdown",
   "id": "44131cef",
   "metadata": {
    "papermill": {
     "duration": 0.013442,
     "end_time": "2023-11-12T09:21:24.211844",
     "exception": false,
     "start_time": "2023-11-12T09:21:24.198402",
     "status": "completed"
    },
    "tags": []
   },
   "source": [
    "- Participation in extracurricular activities helps to a very small extent in obtaining high grades"
   ]
  },
  {
   "cell_type": "code",
   "execution_count": 23,
   "id": "fd46d3c7",
   "metadata": {
    "execution": {
     "iopub.execute_input": "2023-11-12T09:21:24.240949Z",
     "iopub.status.busy": "2023-11-12T09:21:24.240641Z",
     "iopub.status.idle": "2023-11-12T09:21:24.494966Z",
     "shell.execute_reply": "2023-11-12T09:21:24.493365Z"
    },
    "papermill": {
     "duration": 0.271275,
     "end_time": "2023-11-12T09:21:24.497065",
     "exception": false,
     "start_time": "2023-11-12T09:21:24.225790",
     "status": "completed"
    },
    "tags": []
   },
   "outputs": [
    {
     "data": {
      "image/png": "[encoded data removed]",
      "text/plain": [
       "<Figure size 640x480 with 1 Axes>"
      ]
     },
     "metadata": {},
     "output_type": "display_data"
    }
   ],
   "source": [
    "# What is \"Extracurricular Activities\" and \"Performance Index\" distribution\n",
    "\n",
    "avg_performance_by_hours = data.groupby('Hours Studied')['Performance Index'].mean()\n",
    "plt.plot(avg_performance_by_hours.index, avg_performance_by_hours.values)\n",
    "plt.show()"
   ]
  },
  {
   "cell_type": "markdown",
   "id": "2327ecf1",
   "metadata": {
    "papermill": {
     "duration": 0.015128,
     "end_time": "2023-11-12T09:21:24.527242",
     "exception": false,
     "start_time": "2023-11-12T09:21:24.512114",
     "status": "completed"
    },
    "tags": []
   },
   "source": [
    "- The more hours you sleep, Performance index increase"
   ]
  },
  {
   "cell_type": "markdown",
   "id": "07be4800",
   "metadata": {
    "papermill": {
     "duration": 0.014314,
     "end_time": "2023-11-12T09:21:24.555988",
     "exception": false,
     "start_time": "2023-11-12T09:21:24.541674",
     "status": "completed"
    },
    "tags": []
   },
   "source": [
    "### Heatmap of Correlation"
   ]
  },
  {
   "cell_type": "code",
   "execution_count": 24,
   "id": "dba118f2",
   "metadata": {
    "execution": {
     "iopub.execute_input": "2023-11-12T09:21:24.586980Z",
     "iopub.status.busy": "2023-11-12T09:21:24.586339Z",
     "iopub.status.idle": "2023-11-12T09:21:24.938917Z",
     "shell.execute_reply": "2023-11-12T09:21:24.937676Z"
    },
    "papermill": {
     "duration": 0.371284,
     "end_time": "2023-11-12T09:21:24.941409",
     "exception": false,
     "start_time": "2023-11-12T09:21:24.570125",
     "status": "completed"
    },
    "tags": []
   },
   "outputs": [
    {
     "data": {
      "image/png": "[encoded data removed]",
      "text/plain": [
       "<Figure size 1000x600 with 2 Axes>"
      ]
     },
     "metadata": {},
     "output_type": "display_data"
    }
   ],
   "source": [
    "# first visualize correlation matrix between numerical columns\n",
    "\n",
    "plt.figure(figsize = (10,6))\n",
    "sns.heatmap(data.select_dtypes(exclude = object).corr(), annot = True, fmt = \".2f\", linewidths = 0.2)\n",
    "plt.show()"
   ]
  },
  {
   "cell_type": "markdown",
   "id": "347f0a30",
   "metadata": {
    "papermill": {
     "duration": 0.015076,
     "end_time": "2023-11-12T09:21:24.972956",
     "exception": false,
     "start_time": "2023-11-12T09:21:24.957880",
     "status": "completed"
    },
    "tags": []
   },
   "source": [
    "There's a lot of Strong Positive Relationships between Performance Index and Features"
   ]
  },
  {
   "cell_type": "markdown",
   "id": "2d116c15",
   "metadata": {
    "papermill": {
     "duration": 0.017296,
     "end_time": "2023-11-12T09:21:25.005788",
     "exception": false,
     "start_time": "2023-11-12T09:21:24.988492",
     "status": "completed"
    },
    "tags": []
   },
   "source": [
    "##  Data Preprocessing"
   ]
  },
  {
   "cell_type": "code",
   "execution_count": 25,
   "id": "16d918e0",
   "metadata": {
    "execution": {
     "iopub.execute_input": "2023-11-12T09:21:25.041817Z",
     "iopub.status.busy": "2023-11-12T09:21:25.041088Z",
     "iopub.status.idle": "2023-11-12T09:21:25.444078Z",
     "shell.execute_reply": "2023-11-12T09:21:25.442317Z"
    },
    "papermill": {
     "duration": 0.424004,
     "end_time": "2023-11-12T09:21:25.446778",
     "exception": false,
     "start_time": "2023-11-12T09:21:25.022774",
     "status": "completed"
    },
    "tags": []
   },
   "outputs": [],
   "source": [
    "# import libraries to model\n",
    "\n",
    "from sklearn.preprocessing import LabelEncoder, MinMaxScaler\n",
    "from sklearn.model_selection import train_test_split\n",
    "from sklearn.linear_model import LinearRegression\n",
    "from sklearn.metrics import mean_absolute_error,r2_score"
   ]
  },
  {
   "cell_type": "code",
   "execution_count": 26,
   "id": "ad86d922",
   "metadata": {
    "execution": {
     "iopub.execute_input": "2023-11-12T09:21:25.486178Z",
     "iopub.status.busy": "2023-11-12T09:21:25.484653Z",
     "iopub.status.idle": "2023-11-12T09:21:25.494232Z",
     "shell.execute_reply": "2023-11-12T09:21:25.493128Z"
    },
    "papermill": {
     "duration": 0.032214,
     "end_time": "2023-11-12T09:21:25.497511",
     "exception": false,
     "start_time": "2023-11-12T09:21:25.465297",
     "status": "completed"
    },
    "tags": []
   },
   "outputs": [],
   "source": [
    "# create object from labelencoder\n",
    "\n",
    "encoder = LabelEncoder()\n",
    "\n",
    "data[\"Extracurricular Activities\"] =  encoder.fit_transform(data[\"Extracurricular Activities\"])"
   ]
  },
  {
   "cell_type": "code",
   "execution_count": 27,
   "id": "3d165876",
   "metadata": {
    "execution": {
     "iopub.execute_input": "2023-11-12T09:21:25.544472Z",
     "iopub.status.busy": "2023-11-12T09:21:25.542493Z",
     "iopub.status.idle": "2023-11-12T09:21:25.561128Z",
     "shell.execute_reply": "2023-11-12T09:21:25.560146Z"
    },
    "papermill": {
     "duration": 0.043731,
     "end_time": "2023-11-12T09:21:25.563321",
     "exception": false,
     "start_time": "2023-11-12T09:21:25.519590",
     "status": "completed"
    },
    "tags": []
   },
   "outputs": [
    {
     "data": {
      "text/html": [
       "<div>\n",
       "<style scoped>\n",
       "    .dataframe tbody tr th:only-of-type {\n",
       "        vertical-align: middle;\n",
       "    }\n",
       "\n",
       "    .dataframe tbody tr th {\n",
       "        vertical-align: top;\n",
       "    }\n",
       "\n",
       "    .dataframe thead th {\n",
       "        text-align: right;\n",
       "    }\n",
       "</style>\n",
       "<table border=\"1\" class=\"dataframe\">\n",
       "  <thead>\n",
       "    <tr style=\"text-align: right;\">\n",
       "      <th></th>\n",
       "      <th>Hours Studied</th>\n",
       "      <th>Previous Scores</th>\n",
       "      <th>Extracurricular Activities</th>\n",
       "      <th>Sleep Hours</th>\n",
       "      <th>Sample Question Papers Practiced</th>\n",
       "      <th>Performance Index</th>\n",
       "    </tr>\n",
       "  </thead>\n",
       "  <tbody>\n",
       "    <tr>\n",
       "      <th>8417</th>\n",
       "      <td>6</td>\n",
       "      <td>75</td>\n",
       "      <td>0</td>\n",
       "      <td>4</td>\n",
       "      <td>7</td>\n",
       "      <td>64.0</td>\n",
       "    </tr>\n",
       "    <tr>\n",
       "      <th>5753</th>\n",
       "      <td>5</td>\n",
       "      <td>60</td>\n",
       "      <td>1</td>\n",
       "      <td>6</td>\n",
       "      <td>6</td>\n",
       "      <td>45.0</td>\n",
       "    </tr>\n",
       "  </tbody>\n",
       "</table>\n",
       "</div>"
      ],
      "text/plain": [
       "      Hours Studied  Previous Scores  Extracurricular Activities  Sleep Hours  \\\n",
       "8417              6               75                           0            4   \n",
       "5753              5               60                           1            6   \n",
       "\n",
       "      Sample Question Papers Practiced  Performance Index  \n",
       "8417                                 7               64.0  \n",
       "5753                                 6               45.0  "
      ]
     },
     "execution_count": 27,
     "metadata": {},
     "output_type": "execute_result"
    }
   ],
   "source": [
    "# see sample of data\n",
    "\n",
    "data.sample(2)"
   ]
  },
  {
   "cell_type": "code",
   "execution_count": 28,
   "id": "b2b73312",
   "metadata": {
    "execution": {
     "iopub.execute_input": "2023-11-12T09:21:25.607263Z",
     "iopub.status.busy": "2023-11-12T09:21:25.605415Z",
     "iopub.status.idle": "2023-11-12T09:21:25.614886Z",
     "shell.execute_reply": "2023-11-12T09:21:25.614082Z"
    },
    "papermill": {
     "duration": 0.033297,
     "end_time": "2023-11-12T09:21:25.617410",
     "exception": false,
     "start_time": "2023-11-12T09:21:25.584113",
     "status": "completed"
    },
    "tags": []
   },
   "outputs": [],
   "source": [
    "# Splitting data into Indipendent and Dependent Variable\n",
    "\n",
    "Train = data.drop(columns = \"Performance Index\")\n",
    "Target = data[\"Performance Index\"]"
   ]
  },
  {
   "cell_type": "code",
   "execution_count": 29,
   "id": "584b8c6e",
   "metadata": {
    "execution": {
     "iopub.execute_input": "2023-11-12T09:21:25.659800Z",
     "iopub.status.busy": "2023-11-12T09:21:25.658507Z",
     "iopub.status.idle": "2023-11-12T09:21:25.670126Z",
     "shell.execute_reply": "2023-11-12T09:21:25.669115Z"
    },
    "papermill": {
     "duration": 0.032889,
     "end_time": "2023-11-12T09:21:25.671990",
     "exception": false,
     "start_time": "2023-11-12T09:21:25.639101",
     "status": "completed"
    },
    "tags": []
   },
   "outputs": [
    {
     "data": {
      "text/html": [
       "<div>\n",
       "<style scoped>\n",
       "    .dataframe tbody tr th:only-of-type {\n",
       "        vertical-align: middle;\n",
       "    }\n",
       "\n",
       "    .dataframe tbody tr th {\n",
       "        vertical-align: top;\n",
       "    }\n",
       "\n",
       "    .dataframe thead th {\n",
       "        text-align: right;\n",
       "    }\n",
       "</style>\n",
       "<table border=\"1\" class=\"dataframe\">\n",
       "  <thead>\n",
       "    <tr style=\"text-align: right;\">\n",
       "      <th></th>\n",
       "      <th>Hours Studied</th>\n",
       "      <th>Previous Scores</th>\n",
       "      <th>Extracurricular Activities</th>\n",
       "      <th>Sleep Hours</th>\n",
       "      <th>Sample Question Papers Practiced</th>\n",
       "    </tr>\n",
       "  </thead>\n",
       "  <tbody>\n",
       "    <tr>\n",
       "      <th>1037</th>\n",
       "      <td>7</td>\n",
       "      <td>97</td>\n",
       "      <td>0</td>\n",
       "      <td>9</td>\n",
       "      <td>9</td>\n",
       "    </tr>\n",
       "    <tr>\n",
       "      <th>3226</th>\n",
       "      <td>5</td>\n",
       "      <td>67</td>\n",
       "      <td>0</td>\n",
       "      <td>8</td>\n",
       "      <td>0</td>\n",
       "    </tr>\n",
       "    <tr>\n",
       "      <th>1173</th>\n",
       "      <td>2</td>\n",
       "      <td>69</td>\n",
       "      <td>1</td>\n",
       "      <td>5</td>\n",
       "      <td>4</td>\n",
       "    </tr>\n",
       "  </tbody>\n",
       "</table>\n",
       "</div>"
      ],
      "text/plain": [
       "      Hours Studied  Previous Scores  Extracurricular Activities  Sleep Hours  \\\n",
       "1037              7               97                           0            9   \n",
       "3226              5               67                           0            8   \n",
       "1173              2               69                           1            5   \n",
       "\n",
       "      Sample Question Papers Practiced  \n",
       "1037                                 9  \n",
       "3226                                 0  \n",
       "1173                                 4  "
      ]
     },
     "execution_count": 29,
     "metadata": {},
     "output_type": "execute_result"
    }
   ],
   "source": [
    "# see sample of train data\n",
    "\n",
    "Train.sample(3)"
   ]
  },
  {
   "cell_type": "code",
   "execution_count": 30,
   "id": "0cb891d3",
   "metadata": {
    "execution": {
     "iopub.execute_input": "2023-11-12T09:21:25.705304Z",
     "iopub.status.busy": "2023-11-12T09:21:25.704837Z",
     "iopub.status.idle": "2023-11-12T09:21:25.715214Z",
     "shell.execute_reply": "2023-11-12T09:21:25.714022Z"
    },
    "papermill": {
     "duration": 0.029412,
     "end_time": "2023-11-12T09:21:25.717118",
     "exception": false,
     "start_time": "2023-11-12T09:21:25.687706",
     "status": "completed"
    },
    "tags": []
   },
   "outputs": [
    {
     "data": {
      "text/plain": [
       "0       91.0\n",
       "1       65.0\n",
       "2       45.0\n",
       "3       36.0\n",
       "4       66.0\n",
       "        ... \n",
       "9995    23.0\n",
       "9996    58.0\n",
       "9997    74.0\n",
       "9998    95.0\n",
       "9999    64.0\n",
       "Name: Performance Index, Length: 10000, dtype: float64"
      ]
     },
     "execution_count": 30,
     "metadata": {},
     "output_type": "execute_result"
    }
   ],
   "source": [
    "# see sample of target label\n",
    "\n",
    "Target"
   ]
  },
  {
   "cell_type": "code",
   "execution_count": 31,
   "id": "5c9722d6",
   "metadata": {
    "execution": {
     "iopub.execute_input": "2023-11-12T09:21:25.750933Z",
     "iopub.status.busy": "2023-11-12T09:21:25.750401Z",
     "iopub.status.idle": "2023-11-12T09:21:25.761125Z",
     "shell.execute_reply": "2023-11-12T09:21:25.758715Z"
    },
    "papermill": {
     "duration": 0.030042,
     "end_time": "2023-11-12T09:21:25.763160",
     "exception": false,
     "start_time": "2023-11-12T09:21:25.733118",
     "status": "completed"
    },
    "tags": []
   },
   "outputs": [],
   "source": [
    "X_train, X_test, y_train, y_test = train_test_split(Train, Target, test_size = 0.2, random_state = 42)"
   ]
  },
  {
   "cell_type": "code",
   "execution_count": 32,
   "id": "80471192",
   "metadata": {
    "execution": {
     "iopub.execute_input": "2023-11-12T09:21:25.805166Z",
     "iopub.status.busy": "2023-11-12T09:21:25.803793Z",
     "iopub.status.idle": "2023-11-12T09:21:25.811836Z",
     "shell.execute_reply": "2023-11-12T09:21:25.810813Z"
    },
    "papermill": {
     "duration": 0.03166,
     "end_time": "2023-11-12T09:21:25.813603",
     "exception": false,
     "start_time": "2023-11-12T09:21:25.781943",
     "status": "completed"
    },
    "tags": []
   },
   "outputs": [
    {
     "name": "stdout",
     "output_type": "stream",
     "text": [
      "x_train shape:  (8000, 5)\n",
      "y_train shape:  (8000,)\n",
      "x_test shape:  (2000, 5)\n",
      "y_test shape:  (2000,)\n"
     ]
    }
   ],
   "source": [
    "# see shape of splited data\n",
    "\n",
    "print(\"x_train shape: \", X_train.shape)\n",
    "print(\"y_train shape: \", y_train.shape)\n",
    "print(\"x_test shape: \", X_test.shape)\n",
    "print(\"y_test shape: \", y_test.shape)"
   ]
  },
  {
   "cell_type": "markdown",
   "id": "3e544374",
   "metadata": {
    "papermill": {
     "duration": 0.01677,
     "end_time": "2023-11-12T09:21:25.848438",
     "exception": false,
     "start_time": "2023-11-12T09:21:25.831668",
     "status": "completed"
    },
    "tags": []
   },
   "source": [
    "## Modeling"
   ]
  },
  {
   "cell_type": "code",
   "execution_count": 33,
   "id": "7c0ad2d0",
   "metadata": {
    "execution": {
     "iopub.execute_input": "2023-11-12T09:21:25.879895Z",
     "iopub.status.busy": "2023-11-12T09:21:25.879585Z",
     "iopub.status.idle": "2023-11-12T09:21:25.884185Z",
     "shell.execute_reply": "2023-11-12T09:21:25.883181Z"
    },
    "papermill": {
     "duration": 0.022507,
     "end_time": "2023-11-12T09:21:25.885907",
     "exception": false,
     "start_time": "2023-11-12T09:21:25.863400",
     "status": "completed"
    },
    "tags": []
   },
   "outputs": [],
   "source": [
    "# create object from RandomForestRegressor\n",
    "\n",
    "model = LinearRegression()"
   ]
  },
  {
   "cell_type": "code",
   "execution_count": 34,
   "id": "9d4e0256",
   "metadata": {
    "execution": {
     "iopub.execute_input": "2023-11-12T09:21:25.918912Z",
     "iopub.status.busy": "2023-11-12T09:21:25.918571Z",
     "iopub.status.idle": "2023-11-12T09:21:25.948868Z",
     "shell.execute_reply": "2023-11-12T09:21:25.948011Z"
    },
    "papermill": {
     "duration": 0.049259,
     "end_time": "2023-11-12T09:21:25.950713",
     "exception": false,
     "start_time": "2023-11-12T09:21:25.901454",
     "status": "completed"
    },
    "tags": []
   },
   "outputs": [
    {
     "data": {
      "text/html": [
       "<style>#sk-container-id-1 {color: black;background-color: white;}#sk-container-id-1 pre{padding: 0;}#sk-container-id-1 div.sk-toggleable {background-color: white;}#sk-container-id-1 label.sk-toggleable__label {cursor: pointer;display: block;width: 100%;margin-bottom: 0;padding: 0.3em;box-sizing: border-box;text-align: center;}#sk-container-id-1 label.sk-toggleable__label-arrow:before {content: \"▸\";float: left;margin-right: 0.25em;color: #696969;}#sk-container-id-1 label.sk-toggleable__label-arrow:hover:before {color: black;}#sk-container-id-1 div.sk-estimator:hover label.sk-toggleable__label-arrow:before {color: black;}#sk-container-id-1 div.sk-toggleable__content {max-height: 0;max-width: 0;overflow: hidden;text-align: left;background-color: #f0f8ff;}#sk-container-id-1 div.sk-toggleable__content pre {margin: 0.2em;color: black;border-radius: 0.25em;background-color: #f0f8ff;}#sk-container-id-1 input.sk-toggleable__control:checked~div.sk-toggleable__content {max-height: 200px;max-width: 100%;overflow: auto;}#sk-container-id-1 input.sk-toggleable__control:checked~label.sk-toggleable__label-arrow:before {content: \"▾\";}#sk-container-id-1 div.sk-estimator input.sk-toggleable__control:checked~label.sk-toggleable__label {background-color: #d4ebff;}#sk-container-id-1 div.sk-label input.sk-toggleable__control:checked~label.sk-toggleable__label {background-color: #d4ebff;}#sk-container-id-1 input.sk-hidden--visually {border: 0;clip: rect(1px 1px 1px 1px);clip: rect(1px, 1px, 1px, 1px);height: 1px;margin: -1px;overflow: hidden;padding: 0;position: absolute;width: 1px;}#sk-container-id-1 div.sk-estimator {font-family: monospace;background-color: #f0f8ff;border: 1px dotted black;border-radius: 0.25em;box-sizing: border-box;margin-bottom: 0.5em;}#sk-container-id-1 div.sk-estimator:hover {background-color: #d4ebff;}#sk-container-id-1 div.sk-parallel-item::after {content: \"\";width: 100%;border-bottom: 1px solid gray;flex-grow: 1;}#sk-container-id-1 div.sk-label:hover label.sk-toggleable__label {background-color: #d4ebff;}#sk-container-id-1 div.sk-serial::before {content: \"\";position: absolute;border-left: 1px solid gray;box-sizing: border-box;top: 0;bottom: 0;left: 50%;z-index: 0;}#sk-container-id-1 div.sk-serial {display: flex;flex-direction: column;align-items: center;background-color: white;padding-right: 0.2em;padding-left: 0.2em;position: relative;}#sk-container-id-1 div.sk-item {position: relative;z-index: 1;}#sk-container-id-1 div.sk-parallel {display: flex;align-items: stretch;justify-content: center;background-color: white;position: relative;}#sk-container-id-1 div.sk-item::before, #sk-container-id-1 div.sk-parallel-item::before {content: \"\";position: absolute;border-left: 1px solid gray;box-sizing: border-box;top: 0;bottom: 0;left: 50%;z-index: -1;}#sk-container-id-1 div.sk-parallel-item {display: flex;flex-direction: column;z-index: 1;position: relative;background-color: white;}#sk-container-id-1 div.sk-parallel-item:first-child::after {align-self: flex-end;width: 50%;}#sk-container-id-1 div.sk-parallel-item:last-child::after {align-self: flex-start;width: 50%;}#sk-container-id-1 div.sk-parallel-item:only-child::after {width: 0;}#sk-container-id-1 div.sk-dashed-wrapped {border: 1px dashed gray;margin: 0 0.4em 0.5em 0.4em;box-sizing: border-box;padding-bottom: 0.4em;background-color: white;}#sk-container-id-1 div.sk-label label {font-family: monospace;font-weight: bold;display: inline-block;line-height: 1.2em;}#sk-container-id-1 div.sk-label-container {text-align: center;}#sk-container-id-1 div.sk-container {/* jupyter's `normalize.less` sets `[hidden] { display: none; }` but bootstrap.min.css set `[hidden] { display: none !important; }` so we also need the `!important` here to be able to override the default hidden behavior on the sphinx rendered scikit-learn.org. See: https://github.com/scikit-learn/scikit-learn/issues/21755 */display: inline-block !important;position: relative;}#sk-container-id-1 div.sk-text-repr-fallback {display: none;}</style><div id=\"sk-container-id-1\" class=\"sk-top-container\"><div class=\"sk-text-repr-fallback\"><pre>LinearRegression()</pre><b>In a Jupyter environment, please rerun this cell to show the HTML representation or trust the notebook. <br />On GitHub, the HTML representation is unable to render, please try loading this page with nbviewer.org.</b></div><div class=\"sk-container\" hidden><div class=\"sk-item\"><div class=\"sk-estimator sk-toggleable\"><input class=\"sk-toggleable__control sk-hidden--visually\" id=\"sk-estimator-id-1\" type=\"checkbox\" checked><label for=\"sk-estimator-id-1\" class=\"sk-toggleable__label sk-toggleable__label-arrow\">LinearRegression</label><div class=\"sk-toggleable__content\"><pre>LinearRegression()</pre></div></div></div></div></div>"
      ],
      "text/plain": [
       "LinearRegression()"
      ]
     },
     "execution_count": 34,
     "metadata": {},
     "output_type": "execute_result"
    }
   ],
   "source": [
    "# fit model\n",
    "\n",
    "model.fit(X_train,y_train)"
   ]
  },
  {
   "cell_type": "markdown",
   "id": "577b225d",
   "metadata": {
    "papermill": {
     "duration": 0.015174,
     "end_time": "2023-11-12T09:21:25.981589",
     "exception": false,
     "start_time": "2023-11-12T09:21:25.966415",
     "status": "completed"
    },
    "tags": []
   },
   "source": [
    "## Evaluating Results"
   ]
  },
  {
   "cell_type": "code",
   "execution_count": 35,
   "id": "33e9c67f",
   "metadata": {
    "execution": {
     "iopub.execute_input": "2023-11-12T09:21:26.014144Z",
     "iopub.status.busy": "2023-11-12T09:21:26.013837Z",
     "iopub.status.idle": "2023-11-12T09:21:26.027908Z",
     "shell.execute_reply": "2023-11-12T09:21:26.026826Z"
    },
    "papermill": {
     "duration": 0.033184,
     "end_time": "2023-11-12T09:21:26.029972",
     "exception": false,
     "start_time": "2023-11-12T09:21:25.996788",
     "status": "completed"
    },
    "tags": []
   },
   "outputs": [
    {
     "data": {
      "text/plain": [
       "0.9886898790682355"
      ]
     },
     "execution_count": 35,
     "metadata": {},
     "output_type": "execute_result"
    }
   ],
   "source": [
    "# Calculate the score of the model on the training data\n",
    "\n",
    "model.score(X_train, y_train)"
   ]
  },
  {
   "cell_type": "code",
   "execution_count": 36,
   "id": "0a0facab",
   "metadata": {
    "execution": {
     "iopub.execute_input": "2023-11-12T09:21:26.076609Z",
     "iopub.status.busy": "2023-11-12T09:21:26.075371Z",
     "iopub.status.idle": "2023-11-12T09:21:26.081457Z",
     "shell.execute_reply": "2023-11-12T09:21:26.080853Z"
    },
    "papermill": {
     "duration": 0.03106,
     "end_time": "2023-11-12T09:21:26.083160",
     "exception": false,
     "start_time": "2023-11-12T09:21:26.052100",
     "status": "completed"
    },
    "tags": []
   },
   "outputs": [],
   "source": [
    "# see predicted values\n",
    "\n",
    "predict = np.round(model.predict(X_test), decimals = 1)"
   ]
  },
  {
   "cell_type": "code",
   "execution_count": 37,
   "id": "e307c7a6",
   "metadata": {
    "execution": {
     "iopub.execute_input": "2023-11-12T09:21:26.128252Z",
     "iopub.status.busy": "2023-11-12T09:21:26.127913Z",
     "iopub.status.idle": "2023-11-12T09:21:26.139385Z",
     "shell.execute_reply": "2023-11-12T09:21:26.138765Z"
    },
    "papermill": {
     "duration": 0.036856,
     "end_time": "2023-11-12T09:21:26.141996",
     "exception": false,
     "start_time": "2023-11-12T09:21:26.105140",
     "status": "completed"
    },
    "tags": []
   },
   "outputs": [
    {
     "data": {
      "text/html": [
       "<div>\n",
       "<style scoped>\n",
       "    .dataframe tbody tr th:only-of-type {\n",
       "        vertical-align: middle;\n",
       "    }\n",
       "\n",
       "    .dataframe tbody tr th {\n",
       "        vertical-align: top;\n",
       "    }\n",
       "\n",
       "    .dataframe thead th {\n",
       "        text-align: right;\n",
       "    }\n",
       "</style>\n",
       "<table border=\"1\" class=\"dataframe\">\n",
       "  <thead>\n",
       "    <tr style=\"text-align: right;\">\n",
       "      <th></th>\n",
       "      <th>Actual Performance</th>\n",
       "      <th>Predicted Performance</th>\n",
       "    </tr>\n",
       "  </thead>\n",
       "  <tbody>\n",
       "    <tr>\n",
       "      <th>6252</th>\n",
       "      <td>51.0</td>\n",
       "      <td>54.7</td>\n",
       "    </tr>\n",
       "    <tr>\n",
       "      <th>4684</th>\n",
       "      <td>20.0</td>\n",
       "      <td>22.6</td>\n",
       "    </tr>\n",
       "    <tr>\n",
       "      <th>1731</th>\n",
       "      <td>46.0</td>\n",
       "      <td>47.9</td>\n",
       "    </tr>\n",
       "    <tr>\n",
       "      <th>4742</th>\n",
       "      <td>28.0</td>\n",
       "      <td>31.3</td>\n",
       "    </tr>\n",
       "    <tr>\n",
       "      <th>4521</th>\n",
       "      <td>41.0</td>\n",
       "      <td>43.0</td>\n",
       "    </tr>\n",
       "    <tr>\n",
       "      <th>...</th>\n",
       "      <td>...</td>\n",
       "      <td>...</td>\n",
       "    </tr>\n",
       "    <tr>\n",
       "      <th>6412</th>\n",
       "      <td>45.0</td>\n",
       "      <td>46.9</td>\n",
       "    </tr>\n",
       "    <tr>\n",
       "      <th>8285</th>\n",
       "      <td>66.0</td>\n",
       "      <td>62.7</td>\n",
       "    </tr>\n",
       "    <tr>\n",
       "      <th>7853</th>\n",
       "      <td>16.0</td>\n",
       "      <td>16.8</td>\n",
       "    </tr>\n",
       "    <tr>\n",
       "      <th>1095</th>\n",
       "      <td>65.0</td>\n",
       "      <td>63.3</td>\n",
       "    </tr>\n",
       "    <tr>\n",
       "      <th>6929</th>\n",
       "      <td>47.0</td>\n",
       "      <td>45.9</td>\n",
       "    </tr>\n",
       "  </tbody>\n",
       "</table>\n",
       "<p>2000 rows × 2 columns</p>\n",
       "</div>"
      ],
      "text/plain": [
       "      Actual Performance  Predicted Performance\n",
       "6252                51.0                   54.7\n",
       "4684                20.0                   22.6\n",
       "1731                46.0                   47.9\n",
       "4742                28.0                   31.3\n",
       "4521                41.0                   43.0\n",
       "...                  ...                    ...\n",
       "6412                45.0                   46.9\n",
       "8285                66.0                   62.7\n",
       "7853                16.0                   16.8\n",
       "1095                65.0                   63.3\n",
       "6929                47.0                   45.9\n",
       "\n",
       "[2000 rows x 2 columns]"
      ]
     },
     "execution_count": 37,
     "metadata": {},
     "output_type": "execute_result"
    }
   ],
   "source": [
    "# Real Values vs Predicted Values\n",
    "\n",
    "pd.DataFrame({\"Actual Performance\" : y_test, \"Predicted Performance\" : predict})"
   ]
  },
  {
   "cell_type": "code",
   "execution_count": 38,
   "id": "7e3133e8",
   "metadata": {
    "execution": {
     "iopub.execute_input": "2023-11-12T09:21:26.186844Z",
     "iopub.status.busy": "2023-11-12T09:21:26.185203Z",
     "iopub.status.idle": "2023-11-12T09:21:26.409400Z",
     "shell.execute_reply": "2023-11-12T09:21:26.408395Z"
    },
    "papermill": {
     "duration": 0.248496,
     "end_time": "2023-11-12T09:21:26.411593",
     "exception": false,
     "start_time": "2023-11-12T09:21:26.163097",
     "status": "completed"
    },
    "tags": []
   },
   "outputs": [
    {
     "data": {
      "image/png": "[encoded data removed]",
      "text/plain": [
       "<Figure size 640x480 with 1 Axes>"
      ]
     },
     "metadata": {},
     "output_type": "display_data"
    }
   ],
   "source": [
    "# Create scatter plot to see distribution\n",
    "\n",
    "plt.scatter(y_test, predict)\n",
    "plt.show()"
   ]
  },
  {
   "cell_type": "code",
   "execution_count": 39,
   "id": "66611b08",
   "metadata": {
    "execution": {
     "iopub.execute_input": "2023-11-12T09:21:26.448720Z",
     "iopub.status.busy": "2023-11-12T09:21:26.448016Z",
     "iopub.status.idle": "2023-11-12T09:21:26.455720Z",
     "shell.execute_reply": "2023-11-12T09:21:26.454653Z"
    },
    "papermill": {
     "duration": 0.028756,
     "end_time": "2023-11-12T09:21:26.457555",
     "exception": false,
     "start_time": "2023-11-12T09:21:26.428799",
     "status": "completed"
    },
    "tags": []
   },
   "outputs": [
    {
     "data": {
      "text/plain": [
       "1.612"
      ]
     },
     "execution_count": 39,
     "metadata": {},
     "output_type": "execute_result"
    }
   ],
   "source": [
    "# see mean absolute error \n",
    "\n",
    "mean_absolute_error(y_test,predict)"
   ]
  },
  {
   "cell_type": "code",
   "execution_count": 40,
   "id": "89c18287",
   "metadata": {
    "execution": {
     "iopub.execute_input": "2023-11-12T09:21:26.493115Z",
     "iopub.status.busy": "2023-11-12T09:21:26.491289Z",
     "iopub.status.idle": "2023-11-12T09:21:26.499783Z",
     "shell.execute_reply": "2023-11-12T09:21:26.498975Z"
    },
    "papermill": {
     "duration": 0.028343,
     "end_time": "2023-11-12T09:21:26.502249",
     "exception": false,
     "start_time": "2023-11-12T09:21:26.473906",
     "status": "completed"
    },
    "tags": []
   },
   "outputs": [
    {
     "data": {
      "text/plain": [
       "0.9889704960519785"
      ]
     },
     "execution_count": 40,
     "metadata": {},
     "output_type": "execute_result"
    }
   ],
   "source": [
    "# see score\n",
    "\n",
    "r2_score(y_test,predict)"
   ]
  },
  {
   "cell_type": "code",
   "execution_count": 41,
   "id": "55186254",
   "metadata": {
    "execution": {
     "iopub.execute_input": "2023-11-12T09:21:26.543282Z",
     "iopub.status.busy": "2023-11-12T09:21:26.542265Z",
     "iopub.status.idle": "2023-11-12T09:21:26.550107Z",
     "shell.execute_reply": "2023-11-12T09:21:26.549009Z"
    },
    "papermill": {
     "duration": 0.029156,
     "end_time": "2023-11-12T09:21:26.552131",
     "exception": false,
     "start_time": "2023-11-12T09:21:26.522975",
     "status": "completed"
    },
    "tags": []
   },
   "outputs": [
    {
     "data": {
      "text/plain": [
       "array([2.85248393, 1.0169882 , 0.60861668, 0.47694148, 0.19183144])"
      ]
     },
     "execution_count": 41,
     "metadata": {},
     "output_type": "execute_result"
    }
   ],
   "source": [
    "# see coefficients values\n",
    "\n",
    "model.coef_"
   ]
  },
  {
   "cell_type": "code",
   "execution_count": 42,
   "id": "22145e5f",
   "metadata": {
    "execution": {
     "iopub.execute_input": "2023-11-12T09:21:26.590093Z",
     "iopub.status.busy": "2023-11-12T09:21:26.588719Z",
     "iopub.status.idle": "2023-11-12T09:21:26.595323Z",
     "shell.execute_reply": "2023-11-12T09:21:26.594540Z"
    },
    "papermill": {
     "duration": 0.027169,
     "end_time": "2023-11-12T09:21:26.597207",
     "exception": false,
     "start_time": "2023-11-12T09:21:26.570038",
     "status": "completed"
    },
    "tags": []
   },
   "outputs": [
    {
     "data": {
      "text/plain": [
       "-33.92194621555638"
      ]
     },
     "execution_count": 42,
     "metadata": {},
     "output_type": "execute_result"
    }
   ],
   "source": [
    "# see y intercept\n",
    "\n",
    "model.intercept_"
   ]
  },
  {
   "cell_type": "markdown",
   "id": "87b793e6",
   "metadata": {
    "papermill": {
     "duration": 0.019388,
     "end_time": "2023-11-12T09:21:26.634985",
     "exception": false,
     "start_time": "2023-11-12T09:21:26.615597",
     "status": "completed"
    },
    "tags": []
   },
   "source": [
    "**Equation of our multiple linear regression model is :**\n",
    "   - 2.85 × Hours Studied + 1.02 × Previous Scores + 0.61 × Extracurricular Activities + 0.48 × Sleep Hours + 0.19 × Sample Question Papers Practiced - 33.92"
   ]
  },
  {
   "cell_type": "code",
   "execution_count": null,
   "id": "9dc8d4ac",
   "metadata": {
    "papermill": {
     "duration": 0.017567,
     "end_time": "2023-11-12T09:21:26.672447",
     "exception": false,
     "start_time": "2023-11-12T09:21:26.654880",
     "status": "completed"
    },
    "tags": []
   },
   "outputs": [],
   "source": []
  }
 ],
 "metadata": {
  "kernelspec": {
   "display_name": "Python 3",
   "language": "python",
   "name": "python3"
  },
  "language_info": {
   "codemirror_mode": {
    "name": "ipython",
    "version": 3
   },
   "file_extension": ".py",
   "mimetype": "text/x-python",
   "name": "python",
   "nbconvert_exporter": "python",
   "pygments_lexer": "ipython3",
   "version": "3.10.12"
  },
  "papermill": {
   "default_parameters": {},
   "duration": 11.158767,
   "end_time": "2023-11-12T09:21:27.511623",
   "environment_variables": {},
   "exception": null,
   "input_path": "__notebook__.ipynb",
   "output_path": "__notebook__.ipynb",
   "parameters": {},
   "start_time": "2023-11-12T09:21:16.352856",
   "version": "2.4.0"
  }
 },
 "nbformat": 4,
 "nbformat_minor": 5
}
